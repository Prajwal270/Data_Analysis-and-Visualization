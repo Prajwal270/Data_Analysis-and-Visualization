{
 "cells": [
  {
   "cell_type": "code",
   "execution_count": 2,
   "metadata": {},
   "outputs": [
    {
     "name": "stdout",
     "output_type": "stream",
     "text": [
      "Data Visualization\n"
     ]
    }
   ],
   "source": [
    "print(\"Data Visualization\")"
   ]
  },
  {
   "cell_type": "code",
   "execution_count": 3,
   "metadata": {},
   "outputs": [
    {
     "name": "stdout",
     "output_type": "stream",
     "text": [
      "prajwal raj\n"
     ]
    }
   ],
   "source": [
    "print('prajwal raj')"
   ]
  },
  {
   "cell_type": "code",
   "execution_count": 11,
   "metadata": {},
   "outputs": [],
   "source": [
    "# This data set is from kaggle website \n",
    "#You can find out this dataset in the link : https://www.kaggle.com/worldbank/world-development-indicators"
   ]
  },
  {
   "cell_type": "code",
   "execution_count": 4,
   "metadata": {},
   "outputs": [],
   "source": [
    "#Imoprting the required libraries\n",
    "\n",
    "import pandas as pd\n",
    "import numpy as np\n",
    "import matplotlib.pyplot as plt"
   ]
  },
  {
   "cell_type": "code",
   "execution_count": 6,
   "metadata": {},
   "outputs": [],
   "source": [
    "df = pd.read_csv('Indicators.csv')"
   ]
  },
  {
   "cell_type": "code",
   "execution_count": 7,
   "metadata": {},
   "outputs": [
    {
     "data": {
      "text/html": [
       "<div>\n",
       "<style scoped>\n",
       "    .dataframe tbody tr th:only-of-type {\n",
       "        vertical-align: middle;\n",
       "    }\n",
       "\n",
       "    .dataframe tbody tr th {\n",
       "        vertical-align: top;\n",
       "    }\n",
       "\n",
       "    .dataframe thead th {\n",
       "        text-align: right;\n",
       "    }\n",
       "</style>\n",
       "<table border=\"1\" class=\"dataframe\">\n",
       "  <thead>\n",
       "    <tr style=\"text-align: right;\">\n",
       "      <th></th>\n",
       "      <th>CountryName</th>\n",
       "      <th>CountryCode</th>\n",
       "      <th>IndicatorName</th>\n",
       "      <th>IndicatorCode</th>\n",
       "      <th>Year</th>\n",
       "      <th>Value</th>\n",
       "    </tr>\n",
       "  </thead>\n",
       "  <tbody>\n",
       "    <tr>\n",
       "      <td>0</td>\n",
       "      <td>Arab World</td>\n",
       "      <td>ARB</td>\n",
       "      <td>Adolescent fertility rate (births per 1,000 wo...</td>\n",
       "      <td>SP.ADO.TFRT</td>\n",
       "      <td>1960</td>\n",
       "      <td>1.335609e+02</td>\n",
       "    </tr>\n",
       "    <tr>\n",
       "      <td>1</td>\n",
       "      <td>Arab World</td>\n",
       "      <td>ARB</td>\n",
       "      <td>Age dependency ratio (% of working-age populat...</td>\n",
       "      <td>SP.POP.DPND</td>\n",
       "      <td>1960</td>\n",
       "      <td>8.779760e+01</td>\n",
       "    </tr>\n",
       "    <tr>\n",
       "      <td>2</td>\n",
       "      <td>Arab World</td>\n",
       "      <td>ARB</td>\n",
       "      <td>Age dependency ratio, old (% of working-age po...</td>\n",
       "      <td>SP.POP.DPND.OL</td>\n",
       "      <td>1960</td>\n",
       "      <td>6.634579e+00</td>\n",
       "    </tr>\n",
       "    <tr>\n",
       "      <td>3</td>\n",
       "      <td>Arab World</td>\n",
       "      <td>ARB</td>\n",
       "      <td>Age dependency ratio, young (% of working-age ...</td>\n",
       "      <td>SP.POP.DPND.YG</td>\n",
       "      <td>1960</td>\n",
       "      <td>8.102333e+01</td>\n",
       "    </tr>\n",
       "    <tr>\n",
       "      <td>4</td>\n",
       "      <td>Arab World</td>\n",
       "      <td>ARB</td>\n",
       "      <td>Arms exports (SIPRI trend indicator values)</td>\n",
       "      <td>MS.MIL.XPRT.KD</td>\n",
       "      <td>1960</td>\n",
       "      <td>3.000000e+06</td>\n",
       "    </tr>\n",
       "  </tbody>\n",
       "</table>\n",
       "</div>"
      ],
      "text/plain": [
       "  CountryName CountryCode                                      IndicatorName  \\\n",
       "0  Arab World         ARB  Adolescent fertility rate (births per 1,000 wo...   \n",
       "1  Arab World         ARB  Age dependency ratio (% of working-age populat...   \n",
       "2  Arab World         ARB  Age dependency ratio, old (% of working-age po...   \n",
       "3  Arab World         ARB  Age dependency ratio, young (% of working-age ...   \n",
       "4  Arab World         ARB        Arms exports (SIPRI trend indicator values)   \n",
       "\n",
       "    IndicatorCode  Year         Value  \n",
       "0     SP.ADO.TFRT  1960  1.335609e+02  \n",
       "1     SP.POP.DPND  1960  8.779760e+01  \n",
       "2  SP.POP.DPND.OL  1960  6.634579e+00  \n",
       "3  SP.POP.DPND.YG  1960  8.102333e+01  \n",
       "4  MS.MIL.XPRT.KD  1960  3.000000e+06  "
      ]
     },
     "execution_count": 7,
     "metadata": {},
     "output_type": "execute_result"
    }
   ],
   "source": [
    "df.head()"
   ]
  },
  {
   "cell_type": "code",
   "execution_count": 8,
   "metadata": {},
   "outputs": [
    {
     "data": {
      "text/plain": [
       "(5656458, 6)"
      ]
     },
     "execution_count": 8,
     "metadata": {},
     "output_type": "execute_result"
    }
   ],
   "source": [
    "df.shape"
   ]
  },
  {
   "cell_type": "code",
   "execution_count": 9,
   "metadata": {},
   "outputs": [],
   "source": [
    "#OOh.. this is very huge data set"
   ]
  },
  {
   "cell_type": "code",
   "execution_count": 10,
   "metadata": {},
   "outputs": [
    {
     "data": {
      "text/plain": [
       "Index(['CountryName', 'CountryCode', 'IndicatorName', 'IndicatorCode', 'Year',\n",
       "       'Value'],\n",
       "      dtype='object')"
      ]
     },
     "execution_count": 10,
     "metadata": {},
     "output_type": "execute_result"
    }
   ],
   "source": [
    "df.columns"
   ]
  },
  {
   "cell_type": "code",
   "execution_count": 12,
   "metadata": {},
   "outputs": [
    {
     "data": {
      "text/plain": [
       "33938748"
      ]
     },
     "execution_count": 12,
     "metadata": {},
     "output_type": "execute_result"
    }
   ],
   "source": [
    "df.size"
   ]
  },
  {
   "cell_type": "code",
   "execution_count": 13,
   "metadata": {},
   "outputs": [
    {
     "name": "stdout",
     "output_type": "stream",
     "text": [
      "<class 'pandas.core.frame.DataFrame'>\n",
      "RangeIndex: 5656458 entries, 0 to 5656457\n",
      "Data columns (total 6 columns):\n",
      "CountryName      object\n",
      "CountryCode      object\n",
      "IndicatorName    object\n",
      "IndicatorCode    object\n",
      "Year             int64\n",
      "Value            float64\n",
      "dtypes: float64(1), int64(1), object(4)\n",
      "memory usage: 258.9+ MB\n"
     ]
    }
   ],
   "source": [
    "df.info()"
   ]
  },
  {
   "cell_type": "code",
   "execution_count": 14,
   "metadata": {},
   "outputs": [
    {
     "data": {
      "text/html": [
       "<div>\n",
       "<style scoped>\n",
       "    .dataframe tbody tr th:only-of-type {\n",
       "        vertical-align: middle;\n",
       "    }\n",
       "\n",
       "    .dataframe tbody tr th {\n",
       "        vertical-align: top;\n",
       "    }\n",
       "\n",
       "    .dataframe thead th {\n",
       "        text-align: right;\n",
       "    }\n",
       "</style>\n",
       "<table border=\"1\" class=\"dataframe\">\n",
       "  <thead>\n",
       "    <tr style=\"text-align: right;\">\n",
       "      <th></th>\n",
       "      <th>count</th>\n",
       "      <th>mean</th>\n",
       "      <th>std</th>\n",
       "      <th>min</th>\n",
       "      <th>25%</th>\n",
       "      <th>50%</th>\n",
       "      <th>75%</th>\n",
       "      <th>max</th>\n",
       "    </tr>\n",
       "  </thead>\n",
       "  <tbody>\n",
       "    <tr>\n",
       "      <td>Year</td>\n",
       "      <td>5656458.0</td>\n",
       "      <td>1.994464e+03</td>\n",
       "      <td>1.387895e+01</td>\n",
       "      <td>1.960000e+03</td>\n",
       "      <td>1984.000000</td>\n",
       "      <td>1997.0000</td>\n",
       "      <td>2006.0</td>\n",
       "      <td>2.015000e+03</td>\n",
       "    </tr>\n",
       "    <tr>\n",
       "      <td>Value</td>\n",
       "      <td>5656458.0</td>\n",
       "      <td>1.070501e+12</td>\n",
       "      <td>4.842469e+13</td>\n",
       "      <td>-9.824821e+15</td>\n",
       "      <td>5.566242</td>\n",
       "      <td>63.5745</td>\n",
       "      <td>13467225.0</td>\n",
       "      <td>1.103367e+16</td>\n",
       "    </tr>\n",
       "  </tbody>\n",
       "</table>\n",
       "</div>"
      ],
      "text/plain": [
       "           count          mean           std           min          25%  \\\n",
       "Year   5656458.0  1.994464e+03  1.387895e+01  1.960000e+03  1984.000000   \n",
       "Value  5656458.0  1.070501e+12  4.842469e+13 -9.824821e+15     5.566242   \n",
       "\n",
       "             50%         75%           max  \n",
       "Year   1997.0000      2006.0  2.015000e+03  \n",
       "Value    63.5745  13467225.0  1.103367e+16  "
      ]
     },
     "execution_count": 14,
     "metadata": {},
     "output_type": "execute_result"
    }
   ],
   "source": [
    "df.describe().transpose()"
   ]
  },
  {
   "cell_type": "code",
   "execution_count": 16,
   "metadata": {},
   "outputs": [
    {
     "data": {
      "text/plain": [
       "<matplotlib.axes._subplots.AxesSubplot at 0x1c61e63dcc8>"
      ]
     },
     "execution_count": 16,
     "metadata": {},
     "output_type": "execute_result"
    },
    {
     "data": {
      "image/png": "[encoded data removed]",
      "text/plain": [
       "<Figure size 720x720 with 1 Axes>"
      ]
     },
     "metadata": {
      "needs_background": "light"
     },
     "output_type": "display_data"
    }
   ],
   "source": [
    "df.boxplot(column='Year',figsize = (10,10))"
   ]
  },
  {
   "cell_type": "code",
   "execution_count": 17,
   "metadata": {},
   "outputs": [
    {
     "data": {
      "text/plain": [
       "CountryName      False\n",
       "CountryCode      False\n",
       "IndicatorName    False\n",
       "IndicatorCode    False\n",
       "Year             False\n",
       "Value            False\n",
       "dtype: bool"
      ]
     },
     "execution_count": 17,
     "metadata": {},
     "output_type": "execute_result"
    }
   ],
   "source": [
    "df.isnull().any()"
   ]
  },
  {
   "cell_type": "code",
   "execution_count": 18,
   "metadata": {},
   "outputs": [],
   "source": [
    "##So there is no missing values in the data set "
   ]
  },
  {
   "cell_type": "code",
   "execution_count": 19,
   "metadata": {},
   "outputs": [],
   "source": [
    "# Now going with each individual features one by one"
   ]
  },
  {
   "cell_type": "code",
   "execution_count": 20,
   "metadata": {},
   "outputs": [
    {
     "data": {
      "text/plain": [
       "Index(['CountryName', 'CountryCode', 'IndicatorName', 'IndicatorCode', 'Year',\n",
       "       'Value'],\n",
       "      dtype='object')"
      ]
     },
     "execution_count": 20,
     "metadata": {},
     "output_type": "execute_result"
    }
   ],
   "source": [
    "# first consider first feature\n",
    "df.columns"
   ]
  },
  {
   "cell_type": "code",
   "execution_count": 21,
   "metadata": {},
   "outputs": [
    {
     "data": {
      "text/plain": [
       "Mexico                       37244\n",
       "Colombia                     37227\n",
       "Philippines                  36912\n",
       "Peru                         36815\n",
       "Costa Rica                   36457\n",
       "                             ...  \n",
       "Northern Mariana Islands      1942\n",
       "Isle of Man                   1764\n",
       "Curacao                       1564\n",
       "Sint Maarten (Dutch part)      681\n",
       "St. Martin (French part)       572\n",
       "Name: CountryName, Length: 247, dtype: int64"
      ]
     },
     "execution_count": 21,
     "metadata": {},
     "output_type": "execute_result"
    }
   ],
   "source": [
    "df['CountryName'].value_counts()"
   ]
  },
  {
   "cell_type": "code",
   "execution_count": 23,
   "metadata": {},
   "outputs": [],
   "source": [
    "un =df['CountryName'].unique()"
   ]
  },
  {
   "cell_type": "code",
   "execution_count": 25,
   "metadata": {},
   "outputs": [
    {
     "data": {
      "text/plain": [
       "array(['Arab World', 'Caribbean small states',\n",
       "       'Central Europe and the Baltics',\n",
       "       'East Asia & Pacific (all income levels)',\n",
       "       'East Asia & Pacific (developing only)', 'Euro area',\n",
       "       'Europe & Central Asia (all income levels)',\n",
       "       'Europe & Central Asia (developing only)', 'European Union',\n",
       "       'Fragile and conflict affected situations',\n",
       "       'Heavily indebted poor countries (HIPC)', 'High income',\n",
       "       'High income: nonOECD', 'High income: OECD',\n",
       "       'Latin America & Caribbean (all income levels)',\n",
       "       'Latin America & Caribbean (developing only)',\n",
       "       'Least developed countries: UN classification',\n",
       "       'Low & middle income', 'Low income', 'Lower middle income',\n",
       "       'Middle East & North Africa (all income levels)',\n",
       "       'Middle East & North Africa (developing only)', 'Middle income',\n",
       "       'North America', 'OECD members', 'Other small states',\n",
       "       'Pacific island small states', 'Small states', 'South Asia',\n",
       "       'Sub-Saharan Africa (all income levels)',\n",
       "       'Sub-Saharan Africa (developing only)', 'Upper middle income',\n",
       "       'World', 'Afghanistan', 'Albania', 'Algeria', 'American Samoa',\n",
       "       'Andorra', 'Angola', 'Antigua and Barbuda', 'Argentina', 'Armenia',\n",
       "       'Aruba', 'Australia', 'Austria', 'Azerbaijan', 'Bahamas, The',\n",
       "       'Bahrain', 'Bangladesh', 'Barbados', 'Belarus', 'Belgium',\n",
       "       'Belize', 'Benin', 'Bermuda', 'Bhutan', 'Bolivia',\n",
       "       'Bosnia and Herzegovina', 'Botswana', 'Brazil',\n",
       "       'Brunei Darussalam', 'Bulgaria', 'Burkina Faso', 'Burundi',\n",
       "       'Cabo Verde', 'Cambodia', 'Cameroon', 'Canada', 'Cayman Islands',\n",
       "       'Central African Republic', 'Chad', 'Channel Islands', 'Chile',\n",
       "       'China', 'Colombia', 'Comoros', 'Congo, Dem. Rep.', 'Congo, Rep.',\n",
       "       'Costa Rica', \"Cote d'Ivoire\", 'Croatia', 'Cuba', 'Curacao',\n",
       "       'Cyprus', 'Czech Republic', 'Denmark', 'Djibouti', 'Dominica',\n",
       "       'Dominican Republic', 'Ecuador', 'Egypt, Arab Rep.', 'El Salvador',\n",
       "       'Equatorial Guinea', 'Eritrea', 'Estonia', 'Ethiopia',\n",
       "       'Faeroe Islands', 'Fiji', 'Finland', 'France', 'French Polynesia',\n",
       "       'Gabon', 'Gambia, The', 'Georgia', 'Germany', 'Ghana', 'Greece',\n",
       "       'Greenland', 'Grenada', 'Guam', 'Guatemala', 'Guinea',\n",
       "       'Guinea-Bissau', 'Guyana', 'Haiti', 'Honduras',\n",
       "       'Hong Kong SAR, China', 'Hungary', 'Iceland', 'India', 'Indonesia',\n",
       "       'Iran, Islamic Rep.', 'Iraq', 'Ireland', 'Isle of Man', 'Israel',\n",
       "       'Italy', 'Jamaica', 'Japan', 'Jordan', 'Kazakhstan', 'Kenya',\n",
       "       'Kiribati', 'Korea, Dem. Rep.', 'Korea, Rep.', 'Kosovo', 'Kuwait',\n",
       "       'Kyrgyz Republic', 'Lao PDR', 'Latvia', 'Lebanon', 'Lesotho',\n",
       "       'Liberia', 'Libya', 'Liechtenstein', 'Lithuania', 'Luxembourg',\n",
       "       'Macao SAR, China', 'Macedonia, FYR', 'Madagascar', 'Malawi',\n",
       "       'Malaysia', 'Maldives', 'Mali', 'Malta', 'Marshall Islands',\n",
       "       'Mauritania', 'Mauritius', 'Mexico', 'Micronesia, Fed. Sts.',\n",
       "       'Moldova', 'Monaco', 'Mongolia', 'Montenegro', 'Morocco',\n",
       "       'Mozambique', 'Myanmar', 'Namibia', 'Nepal', 'Netherlands',\n",
       "       'New Caledonia', 'New Zealand', 'Nicaragua', 'Niger', 'Nigeria',\n",
       "       'Northern Mariana Islands', 'Norway', 'Oman', 'Pakistan', 'Palau',\n",
       "       'Panama', 'Papua New Guinea', 'Paraguay', 'Peru', 'Philippines',\n",
       "       'Poland', 'Portugal', 'Puerto Rico', 'Qatar', 'Romania',\n",
       "       'Russian Federation', 'Rwanda', 'Samoa', 'San Marino',\n",
       "       'Sao Tome and Principe', 'Saudi Arabia', 'Senegal', 'Serbia',\n",
       "       'Seychelles', 'Sierra Leone', 'Singapore',\n",
       "       'Sint Maarten (Dutch part)', 'Slovak Republic', 'Slovenia',\n",
       "       'Solomon Islands', 'Somalia', 'South Africa', 'South Sudan',\n",
       "       'Spain', 'Sri Lanka', 'St. Kitts and Nevis', 'St. Lucia',\n",
       "       'St. Martin (French part)', 'St. Vincent and the Grenadines',\n",
       "       'Sudan', 'Suriname', 'Swaziland', 'Sweden', 'Switzerland',\n",
       "       'Syrian Arab Republic', 'Tajikistan', 'Tanzania', 'Thailand',\n",
       "       'Timor-Leste', 'Togo', 'Tonga', 'Trinidad and Tobago', 'Tunisia',\n",
       "       'Turkey', 'Turkmenistan', 'Turks and Caicos Islands', 'Tuvalu',\n",
       "       'Uganda', 'Ukraine', 'United Arab Emirates', 'United Kingdom',\n",
       "       'United States', 'Uruguay', 'Uzbekistan', 'Vanuatu',\n",
       "       'Venezuela, RB', 'Vietnam', 'Virgin Islands (U.S.)',\n",
       "       'West Bank and Gaza', 'Yemen, Rep.', 'Zambia', 'Zimbabwe'],\n",
       "      dtype=object)"
      ]
     },
     "execution_count": 25,
     "metadata": {},
     "output_type": "execute_result"
    }
   ],
   "source": [
    "un"
   ]
  },
  {
   "cell_type": "code",
   "execution_count": 27,
   "metadata": {},
   "outputs": [
    {
     "data": {
      "text/plain": [
       "247"
      ]
     },
     "execution_count": 27,
     "metadata": {},
     "output_type": "execute_result"
    }
   ],
   "source": [
    "un.size"
   ]
  },
  {
   "cell_type": "code",
   "execution_count": 28,
   "metadata": {},
   "outputs": [],
   "source": [
    "# So there are only 247 unique country , and rest are their repeatition"
   ]
  },
  {
   "cell_type": "code",
   "execution_count": 29,
   "metadata": {},
   "outputs": [],
   "source": [
    "#what if we want to calculate the value provided by each 247 Country individually"
   ]
  },
  {
   "cell_type": "code",
   "execution_count": 31,
   "metadata": {},
   "outputs": [
    {
     "data": {
      "text/plain": [
       "Index(['CountryName', 'CountryCode', 'IndicatorName', 'IndicatorCode', 'Year',\n",
       "       'Value'],\n",
       "      dtype='object')"
      ]
     },
     "execution_count": 31,
     "metadata": {},
     "output_type": "execute_result"
    }
   ],
   "source": [
    "df.columns"
   ]
  },
  {
   "cell_type": "code",
   "execution_count": 32,
   "metadata": {},
   "outputs": [],
   "source": [
    "Avg_value = df[['CountryName','Value']].groupby(\"CountryName\").mean()"
   ]
  },
  {
   "cell_type": "code",
   "execution_count": 33,
   "metadata": {},
   "outputs": [
    {
     "data": {
      "text/plain": [
       "(247, 1)"
      ]
     },
     "execution_count": 33,
     "metadata": {},
     "output_type": "execute_result"
    }
   ],
   "source": [
    "Avg_value.shape"
   ]
  },
  {
   "cell_type": "code",
   "execution_count": 34,
   "metadata": {},
   "outputs": [
    {
     "data": {
      "text/html": [
       "<div>\n",
       "<style scoped>\n",
       "    .dataframe tbody tr th:only-of-type {\n",
       "        vertical-align: middle;\n",
       "    }\n",
       "\n",
       "    .dataframe tbody tr th {\n",
       "        vertical-align: top;\n",
       "    }\n",
       "\n",
       "    .dataframe thead th {\n",
       "        text-align: right;\n",
       "    }\n",
       "</style>\n",
       "<table border=\"1\" class=\"dataframe\">\n",
       "  <thead>\n",
       "    <tr style=\"text-align: right;\">\n",
       "      <th></th>\n",
       "      <th>Value</th>\n",
       "    </tr>\n",
       "    <tr>\n",
       "      <th>CountryName</th>\n",
       "      <th></th>\n",
       "    </tr>\n",
       "  </thead>\n",
       "  <tbody>\n",
       "    <tr>\n",
       "      <td>Afghanistan</td>\n",
       "      <td>7.819792e+09</td>\n",
       "    </tr>\n",
       "    <tr>\n",
       "      <td>Albania</td>\n",
       "      <td>1.524025e+10</td>\n",
       "    </tr>\n",
       "    <tr>\n",
       "      <td>Algeria</td>\n",
       "      <td>6.500816e+10</td>\n",
       "    </tr>\n",
       "    <tr>\n",
       "      <td>American Samoa</td>\n",
       "      <td>1.195431e+07</td>\n",
       "    </tr>\n",
       "    <tr>\n",
       "      <td>Andorra</td>\n",
       "      <td>1.163213e+08</td>\n",
       "    </tr>\n",
       "    <tr>\n",
       "      <td>Angola</td>\n",
       "      <td>3.656362e+10</td>\n",
       "    </tr>\n",
       "    <tr>\n",
       "      <td>Antigua and Barbuda</td>\n",
       "      <td>1.169558e+08</td>\n",
       "    </tr>\n",
       "    <tr>\n",
       "      <td>Arab World</td>\n",
       "      <td>4.564612e+10</td>\n",
       "    </tr>\n",
       "    <tr>\n",
       "      <td>Argentina</td>\n",
       "      <td>2.537966e+10</td>\n",
       "    </tr>\n",
       "    <tr>\n",
       "      <td>Armenia</td>\n",
       "      <td>4.407086e+10</td>\n",
       "    </tr>\n",
       "    <tr>\n",
       "      <td>Aruba</td>\n",
       "      <td>2.042915e+08</td>\n",
       "    </tr>\n",
       "    <tr>\n",
       "      <td>Australia</td>\n",
       "      <td>5.146144e+10</td>\n",
       "    </tr>\n",
       "    <tr>\n",
       "      <td>Austria</td>\n",
       "      <td>1.844730e+10</td>\n",
       "    </tr>\n",
       "    <tr>\n",
       "      <td>Azerbaijan</td>\n",
       "      <td>1.338109e+09</td>\n",
       "    </tr>\n",
       "    <tr>\n",
       "      <td>Bahamas, The</td>\n",
       "      <td>5.277095e+08</td>\n",
       "    </tr>\n",
       "    <tr>\n",
       "      <td>Bahrain</td>\n",
       "      <td>7.203773e+08</td>\n",
       "    </tr>\n",
       "    <tr>\n",
       "      <td>Bangladesh</td>\n",
       "      <td>9.301258e+10</td>\n",
       "    </tr>\n",
       "    <tr>\n",
       "      <td>Barbados</td>\n",
       "      <td>2.479625e+08</td>\n",
       "    </tr>\n",
       "    <tr>\n",
       "      <td>Belarus</td>\n",
       "      <td>1.956401e+12</td>\n",
       "    </tr>\n",
       "    <tr>\n",
       "      <td>Belgium</td>\n",
       "      <td>2.588933e+10</td>\n",
       "    </tr>\n",
       "  </tbody>\n",
       "</table>\n",
       "</div>"
      ],
      "text/plain": [
       "                            Value\n",
       "CountryName                      \n",
       "Afghanistan          7.819792e+09\n",
       "Albania              1.524025e+10\n",
       "Algeria              6.500816e+10\n",
       "American Samoa       1.195431e+07\n",
       "Andorra              1.163213e+08\n",
       "Angola               3.656362e+10\n",
       "Antigua and Barbuda  1.169558e+08\n",
       "Arab World           4.564612e+10\n",
       "Argentina            2.537966e+10\n",
       "Armenia              4.407086e+10\n",
       "Aruba                2.042915e+08\n",
       "Australia            5.146144e+10\n",
       "Austria              1.844730e+10\n",
       "Azerbaijan           1.338109e+09\n",
       "Bahamas, The         5.277095e+08\n",
       "Bahrain              7.203773e+08\n",
       "Bangladesh           9.301258e+10\n",
       "Barbados             2.479625e+08\n",
       "Belarus              1.956401e+12\n",
       "Belgium              2.588933e+10"
      ]
     },
     "execution_count": 34,
     "metadata": {},
     "output_type": "execute_result"
    }
   ],
   "source": [
    "Avg_value.head(20)"
   ]
  },
  {
   "cell_type": "code",
   "execution_count": 38,
   "metadata": {},
   "outputs": [
    {
     "data": {
      "text/plain": [
       "<matplotlib.axes._subplots.AxesSubplot at 0x1c6202b8748>"
      ]
     },
     "execution_count": 38,
     "metadata": {},
     "output_type": "execute_result"
    },
    {
     "data": {
      "image/png": "[encoded data removed]",
      "text/plain": [
       "<Figure size 720x360 with 1 Axes>"
      ]
     },
     "metadata": {
      "needs_background": "light"
     },
     "output_type": "display_data"
    }
   ],
   "source": [
    "Avg_value[:10].plot(kind ='bar', figsize = (10,5))"
   ]
  },
  {
   "cell_type": "code",
   "execution_count": 46,
   "metadata": {},
   "outputs": [
    {
     "ename": "AttributeError",
     "evalue": "'DataFrame' object has no attribute 'str'",
     "output_type": "error",
     "traceback": [
      "\u001b[1;31m---------------------------------------------------------------------------\u001b[0m",
      "\u001b[1;31mAttributeError\u001b[0m                            Traceback (most recent call last)",
      "\u001b[1;32m<ipython-input-46-4fa9f6f70db2>\u001b[0m in \u001b[0;36m<module>\u001b[1;34m\u001b[0m\n\u001b[1;32m----> 1\u001b[1;33m \u001b[0mAvg_value\u001b[0m\u001b[1;33m[\u001b[0m\u001b[1;33m:\u001b[0m\u001b[1;33m]\u001b[0m\u001b[1;33m.\u001b[0m\u001b[0mstr\u001b[0m\u001b[1;33m.\u001b[0m\u001b[0mcontains\u001b[0m\u001b[1;33m(\u001b[0m\u001b[1;34m\"B\"\u001b[0m\u001b[1;33m)\u001b[0m\u001b[1;33m.\u001b[0m\u001b[0mplot\u001b[0m\u001b[1;33m(\u001b[0m\u001b[0mkind\u001b[0m \u001b[1;33m=\u001b[0m \u001b[1;34m'hist'\u001b[0m\u001b[1;33m,\u001b[0m \u001b[0mfigsize\u001b[0m \u001b[1;33m=\u001b[0m \u001b[1;33m(\u001b[0m\u001b[1;36m20\u001b[0m\u001b[1;33m,\u001b[0m\u001b[1;36m10\u001b[0m\u001b[1;33m)\u001b[0m\u001b[1;33m)\u001b[0m\u001b[1;33m\u001b[0m\u001b[1;33m\u001b[0m\u001b[0m\n\u001b[0m",
      "\u001b[1;32mF:\\Anaconda3\\lib\\site-packages\\pandas\\core\\generic.py\u001b[0m in \u001b[0;36m__getattr__\u001b[1;34m(self, name)\u001b[0m\n\u001b[0;32m   5177\u001b[0m             \u001b[1;32mif\u001b[0m \u001b[0mself\u001b[0m\u001b[1;33m.\u001b[0m\u001b[0m_info_axis\u001b[0m\u001b[1;33m.\u001b[0m\u001b[0m_can_hold_identifiers_and_holds_name\u001b[0m\u001b[1;33m(\u001b[0m\u001b[0mname\u001b[0m\u001b[1;33m)\u001b[0m\u001b[1;33m:\u001b[0m\u001b[1;33m\u001b[0m\u001b[1;33m\u001b[0m\u001b[0m\n\u001b[0;32m   5178\u001b[0m                 \u001b[1;32mreturn\u001b[0m \u001b[0mself\u001b[0m\u001b[1;33m[\u001b[0m\u001b[0mname\u001b[0m\u001b[1;33m]\u001b[0m\u001b[1;33m\u001b[0m\u001b[1;33m\u001b[0m\u001b[0m\n\u001b[1;32m-> 5179\u001b[1;33m             \u001b[1;32mreturn\u001b[0m \u001b[0mobject\u001b[0m\u001b[1;33m.\u001b[0m\u001b[0m__getattribute__\u001b[0m\u001b[1;33m(\u001b[0m\u001b[0mself\u001b[0m\u001b[1;33m,\u001b[0m \u001b[0mname\u001b[0m\u001b[1;33m)\u001b[0m\u001b[1;33m\u001b[0m\u001b[1;33m\u001b[0m\u001b[0m\n\u001b[0m\u001b[0;32m   5180\u001b[0m \u001b[1;33m\u001b[0m\u001b[0m\n\u001b[0;32m   5181\u001b[0m     \u001b[1;32mdef\u001b[0m \u001b[0m__setattr__\u001b[0m\u001b[1;33m(\u001b[0m\u001b[0mself\u001b[0m\u001b[1;33m,\u001b[0m \u001b[0mname\u001b[0m\u001b[1;33m,\u001b[0m \u001b[0mvalue\u001b[0m\u001b[1;33m)\u001b[0m\u001b[1;33m:\u001b[0m\u001b[1;33m\u001b[0m\u001b[1;33m\u001b[0m\u001b[0m\n",
      "\u001b[1;31mAttributeError\u001b[0m: 'DataFrame' object has no attribute 'str'"
     ]
    }
   ],
   "source": [
    "Avg_value.str.contains(\"B\").plot(kind = 'hist', figsize = (20,10))"
   ]
  },
  {
   "cell_type": "code",
   "execution_count": 44,
   "metadata": {},
   "outputs": [
    {
     "data": {
      "text/html": [
       "<div>\n",
       "<style scoped>\n",
       "    .dataframe tbody tr th:only-of-type {\n",
       "        vertical-align: middle;\n",
       "    }\n",
       "\n",
       "    .dataframe tbody tr th {\n",
       "        vertical-align: top;\n",
       "    }\n",
       "\n",
       "    .dataframe thead th {\n",
       "        text-align: right;\n",
       "    }\n",
       "</style>\n",
       "<table border=\"1\" class=\"dataframe\">\n",
       "  <thead>\n",
       "    <tr style=\"text-align: right;\">\n",
       "      <th></th>\n",
       "      <th>Value</th>\n",
       "    </tr>\n",
       "  </thead>\n",
       "  <tbody>\n",
       "    <tr>\n",
       "      <td>count</td>\n",
       "      <td>2.470000e+02</td>\n",
       "    </tr>\n",
       "    <tr>\n",
       "      <td>mean</td>\n",
       "      <td>7.924209e+11</td>\n",
       "    </tr>\n",
       "    <tr>\n",
       "      <td>std</td>\n",
       "      <td>5.241212e+12</td>\n",
       "    </tr>\n",
       "    <tr>\n",
       "      <td>min</td>\n",
       "      <td>1.843633e+03</td>\n",
       "    </tr>\n",
       "    <tr>\n",
       "      <td>25%</td>\n",
       "      <td>8.952929e+08</td>\n",
       "    </tr>\n",
       "    <tr>\n",
       "      <td>50%</td>\n",
       "      <td>1.198408e+10</td>\n",
       "    </tr>\n",
       "    <tr>\n",
       "      <td>75%</td>\n",
       "      <td>8.518661e+10</td>\n",
       "    </tr>\n",
       "    <tr>\n",
       "      <td>max</td>\n",
       "      <td>6.583299e+13</td>\n",
       "    </tr>\n",
       "  </tbody>\n",
       "</table>\n",
       "</div>"
      ],
      "text/plain": [
       "              Value\n",
       "count  2.470000e+02\n",
       "mean   7.924209e+11\n",
       "std    5.241212e+12\n",
       "min    1.843633e+03\n",
       "25%    8.952929e+08\n",
       "50%    1.198408e+10\n",
       "75%    8.518661e+10\n",
       "max    6.583299e+13"
      ]
     },
     "execution_count": 44,
     "metadata": {},
     "output_type": "execute_result"
    }
   ],
   "source": [
    "Avg_value.describe()"
   ]
  },
  {
   "cell_type": "code",
   "execution_count": 41,
   "metadata": {},
   "outputs": [
    {
     "data": {
      "text/plain": [
       "Value    6.583299e+13\n",
       "dtype: float64"
      ]
     },
     "execution_count": 41,
     "metadata": {},
     "output_type": "execute_result"
    }
   ],
   "source": [
    "Avg_value.max()"
   ]
  },
  {
   "cell_type": "code",
   "execution_count": 49,
   "metadata": {},
   "outputs": [
    {
     "data": {
      "text/plain": [
       "Index(['Value'], dtype='object')"
      ]
     },
     "execution_count": 49,
     "metadata": {},
     "output_type": "execute_result"
    }
   ],
   "source": [
    "Avg_value.columns"
   ]
  },
  {
   "cell_type": "code",
   "execution_count": 53,
   "metadata": {},
   "outputs": [
    {
     "data": {
      "text/plain": [
       "Value    7.819792e+09\n",
       "Name: Afghanistan, dtype: float64"
      ]
     },
     "execution_count": 53,
     "metadata": {},
     "output_type": "execute_result"
    }
   ],
   "source": [
    "Avg_value.iloc[0]"
   ]
  },
  {
   "cell_type": "code",
   "execution_count": 54,
   "metadata": {},
   "outputs": [
    {
     "data": {
      "text/plain": [
       "Value    6.583299e+13\n",
       "dtype: float64"
      ]
     },
     "execution_count": 54,
     "metadata": {},
     "output_type": "execute_result"
    }
   ],
   "source": [
    "Avg_value.max()"
   ]
  },
  {
   "cell_type": "code",
   "execution_count": 55,
   "metadata": {},
   "outputs": [],
   "source": [
    "# HOw to know which Country has produced the max value?????\n",
    "\n"
   ]
  },
  {
   "cell_type": "code",
   "execution_count": 57,
   "metadata": {},
   "outputs": [
    {
     "data": {
      "text/html": [
       "<div>\n",
       "<style scoped>\n",
       "    .dataframe tbody tr th:only-of-type {\n",
       "        vertical-align: middle;\n",
       "    }\n",
       "\n",
       "    .dataframe tbody tr th {\n",
       "        vertical-align: top;\n",
       "    }\n",
       "\n",
       "    .dataframe thead th {\n",
       "        text-align: right;\n",
       "    }\n",
       "</style>\n",
       "<table border=\"1\" class=\"dataframe\">\n",
       "  <thead>\n",
       "    <tr style=\"text-align: right;\">\n",
       "      <th></th>\n",
       "      <th>Value</th>\n",
       "    </tr>\n",
       "    <tr>\n",
       "      <th>CountryName</th>\n",
       "      <th></th>\n",
       "    </tr>\n",
       "  </thead>\n",
       "  <tbody>\n",
       "    <tr>\n",
       "      <td>Afghanistan</td>\n",
       "      <td>7.819792e+09</td>\n",
       "    </tr>\n",
       "    <tr>\n",
       "      <td>Albania</td>\n",
       "      <td>1.524025e+10</td>\n",
       "    </tr>\n",
       "    <tr>\n",
       "      <td>Algeria</td>\n",
       "      <td>6.500816e+10</td>\n",
       "    </tr>\n",
       "    <tr>\n",
       "      <td>American Samoa</td>\n",
       "      <td>1.195431e+07</td>\n",
       "    </tr>\n",
       "    <tr>\n",
       "      <td>Andorra</td>\n",
       "      <td>1.163213e+08</td>\n",
       "    </tr>\n",
       "    <tr>\n",
       "      <td>...</td>\n",
       "      <td>...</td>\n",
       "    </tr>\n",
       "    <tr>\n",
       "      <td>West Bank and Gaza</td>\n",
       "      <td>1.274209e+09</td>\n",
       "    </tr>\n",
       "    <tr>\n",
       "      <td>World</td>\n",
       "      <td>2.040933e+12</td>\n",
       "    </tr>\n",
       "    <tr>\n",
       "      <td>Yemen, Rep.</td>\n",
       "      <td>1.885511e+10</td>\n",
       "    </tr>\n",
       "    <tr>\n",
       "      <td>Zambia</td>\n",
       "      <td>1.186698e+09</td>\n",
       "    </tr>\n",
       "    <tr>\n",
       "      <td>Zimbabwe</td>\n",
       "      <td>5.711173e+08</td>\n",
       "    </tr>\n",
       "  </tbody>\n",
       "</table>\n",
       "<p>247 rows × 1 columns</p>\n",
       "</div>"
      ],
      "text/plain": [
       "                           Value\n",
       "CountryName                     \n",
       "Afghanistan         7.819792e+09\n",
       "Albania             1.524025e+10\n",
       "Algeria             6.500816e+10\n",
       "American Samoa      1.195431e+07\n",
       "Andorra             1.163213e+08\n",
       "...                          ...\n",
       "West Bank and Gaza  1.274209e+09\n",
       "World               2.040933e+12\n",
       "Yemen, Rep.         1.885511e+10\n",
       "Zambia              1.186698e+09\n",
       "Zimbabwe            5.711173e+08\n",
       "\n",
       "[247 rows x 1 columns]"
      ]
     },
     "execution_count": 57,
     "metadata": {},
     "output_type": "execute_result"
    }
   ],
   "source": [
    "Avg_value"
   ]
  },
  {
   "cell_type": "code",
   "execution_count": 58,
   "metadata": {},
   "outputs": [
    {
     "data": {
      "text/plain": [
       "Index(['CountryName', 'CountryCode', 'IndicatorName', 'IndicatorCode', 'Year',\n",
       "       'Value'],\n",
       "      dtype='object')"
      ]
     },
     "execution_count": 58,
     "metadata": {},
     "output_type": "execute_result"
    }
   ],
   "source": [
    "df.columns"
   ]
  },
  {
   "cell_type": "code",
   "execution_count": 59,
   "metadata": {},
   "outputs": [],
   "source": [
    "#Going to second Columns"
   ]
  },
  {
   "cell_type": "code",
   "execution_count": 60,
   "metadata": {},
   "outputs": [
    {
     "data": {
      "text/plain": [
       "MEX    37244\n",
       "COL    37227\n",
       "PHL    36912\n",
       "PER    36815\n",
       "CRI    36457\n",
       "       ...  \n",
       "MNP     1942\n",
       "IMY     1764\n",
       "CUW     1564\n",
       "SXM      681\n",
       "MAF      572\n",
       "Name: CountryCode, Length: 247, dtype: int64"
      ]
     },
     "execution_count": 60,
     "metadata": {},
     "output_type": "execute_result"
    }
   ],
   "source": [
    "df['CountryCode'].value_counts()"
   ]
  },
  {
   "cell_type": "code",
   "execution_count": 61,
   "metadata": {},
   "outputs": [
    {
     "data": {
      "text/plain": [
       "247"
      ]
     },
     "execution_count": 61,
     "metadata": {},
     "output_type": "execute_result"
    }
   ],
   "source": [
    "df[\"CountryCode\"].unique().size"
   ]
  },
  {
   "cell_type": "code",
   "execution_count": 62,
   "metadata": {},
   "outputs": [],
   "source": [
    "#with respect to one column how to know the value of other column"
   ]
  },
  {
   "cell_type": "code",
   "execution_count": 67,
   "metadata": {},
   "outputs": [],
   "source": [
    "#What if we want CountryCode of Brazil"
   ]
  },
  {
   "cell_type": "code",
   "execution_count": 71,
   "metadata": {},
   "outputs": [
    {
     "data": {
      "text/plain": [
       "Index(['CountryName', 'CountryCode', 'IndicatorName', 'IndicatorCode', 'Year',\n",
       "       'Value'],\n",
       "      dtype='object')"
      ]
     },
     "execution_count": 71,
     "metadata": {},
     "output_type": "execute_result"
    }
   ],
   "source": [
    "#Going to the next Column\n",
    "df.columns"
   ]
  },
  {
   "cell_type": "code",
   "execution_count": 72,
   "metadata": {},
   "outputs": [
    {
     "data": {
      "text/plain": [
       "0    Adolescent fertility rate (births per 1,000 wo...\n",
       "1    Age dependency ratio (% of working-age populat...\n",
       "2    Age dependency ratio, old (% of working-age po...\n",
       "3    Age dependency ratio, young (% of working-age ...\n",
       "4          Arms exports (SIPRI trend indicator values)\n",
       "5          Arms imports (SIPRI trend indicator values)\n",
       "6                 Birth rate, crude (per 1,000 people)\n",
       "7                                   CO2 emissions (kt)\n",
       "8               CO2 emissions (metric tons per capita)\n",
       "9    CO2 emissions from gaseous fuel consumption (%...\n",
       "Name: IndicatorName, dtype: object"
      ]
     },
     "execution_count": 72,
     "metadata": {},
     "output_type": "execute_result"
    }
   ],
   "source": [
    "df['IndicatorName'].head(10)"
   ]
  },
  {
   "cell_type": "code",
   "execution_count": 73,
   "metadata": {},
   "outputs": [
    {
     "data": {
      "text/plain": [
       "'Adolescent fertility rate (births per 1,000 women ages 15-19)'"
      ]
     },
     "execution_count": 73,
     "metadata": {},
     "output_type": "execute_result"
    }
   ],
   "source": [
    "df['IndicatorName'][0]"
   ]
  },
  {
   "cell_type": "code",
   "execution_count": 74,
   "metadata": {},
   "outputs": [
    {
     "data": {
      "text/plain": [
       "Population, total                                                                              13484\n",
       "Population growth (annual %)                                                                   13442\n",
       "Urban population (% of total)                                                                  13415\n",
       "Rural population (% of total population)                                                       13415\n",
       "Urban population                                                                               13374\n",
       "                                                                                               ...  \n",
       "Present value of external debt (% of exports of goods, services and primary income)               69\n",
       "Benefits incidence in poorest quintile (%) - All Labor Market                                     67\n",
       "Adequacy of unemployment benefits and ALMP (% of total welfare of beneficiary households)         67\n",
       "Survey mean consumption or income per capita, total population (2005 PPP $ per day)                8\n",
       "Survey mean consumption or income per capita, bottom 40% of population (2005 PPP $ per day)        8\n",
       "Name: IndicatorName, Length: 1344, dtype: int64"
      ]
     },
     "execution_count": 74,
     "metadata": {},
     "output_type": "execute_result"
    }
   ],
   "source": [
    "df['IndicatorName'].value_counts()"
   ]
  },
  {
   "cell_type": "code",
   "execution_count": 77,
   "metadata": {},
   "outputs": [
    {
     "data": {
      "text/plain": [
       "5656458"
      ]
     },
     "execution_count": 77,
     "metadata": {},
     "output_type": "execute_result"
    }
   ],
   "source": [
    "df['IndicatorName'].str.contains('CO2').count()"
   ]
  },
  {
   "cell_type": "code",
   "execution_count": 79,
   "metadata": {},
   "outputs": [],
   "source": [
    "r=df['IndicatorName'].unique().tolist()"
   ]
  },
  {
   "cell_type": "code",
   "execution_count": 81,
   "metadata": {},
   "outputs": [
    {
     "data": {
      "text/plain": [
       "['Adolescent fertility rate (births per 1,000 women ages 15-19)',\n",
       " 'Age dependency ratio (% of working-age population)',\n",
       " 'Age dependency ratio, old (% of working-age population)',\n",
       " 'Age dependency ratio, young (% of working-age population)',\n",
       " 'Arms exports (SIPRI trend indicator values)',\n",
       " 'Arms imports (SIPRI trend indicator values)',\n",
       " 'Birth rate, crude (per 1,000 people)',\n",
       " 'CO2 emissions (kt)',\n",
       " 'CO2 emissions (metric tons per capita)',\n",
       " 'CO2 emissions from gaseous fuel consumption (% of total)',\n",
       " 'CO2 emissions from liquid fuel consumption (% of total)',\n",
       " 'CO2 emissions from liquid fuel consumption (kt)',\n",
       " 'CO2 emissions from solid fuel consumption (% of total)',\n",
       " 'Death rate, crude (per 1,000 people)',\n",
       " 'Fertility rate, total (births per woman)',\n",
       " 'Fixed telephone subscriptions',\n",
       " 'Fixed telephone subscriptions (per 100 people)',\n",
       " 'Hospital beds (per 1,000 people)',\n",
       " 'International migrant stock (% of population)',\n",
       " 'International migrant stock, total',\n",
       " 'Life expectancy at birth, female (years)',\n",
       " 'Life expectancy at birth, male (years)',\n",
       " 'Life expectancy at birth, total (years)',\n",
       " 'Merchandise exports (current US$)',\n",
       " 'Merchandise exports by the reporting economy (current US$)',\n",
       " 'Merchandise exports by the reporting economy, residual (% of total merchandise exports)',\n",
       " 'Merchandise exports to developing economies in East Asia & Pacific (% of total merchandise exports)',\n",
       " 'Merchandise exports to developing economies in Latin America & the Caribbean (% of total merchandise exports)',\n",
       " 'Merchandise exports to developing economies in Middle East & North Africa (% of total merchandise exports)',\n",
       " 'Merchandise exports to developing economies in South Asia (% of total merchandise exports)',\n",
       " 'Merchandise exports to developing economies in Sub-Saharan Africa (% of total merchandise exports)',\n",
       " 'Merchandise exports to developing economies outside region (% of total merchandise exports)',\n",
       " 'Merchandise exports to developing economies within region (% of total merchandise exports)',\n",
       " 'Merchandise exports to economies in the Arab World (% of total merchandise exports)',\n",
       " 'Merchandise exports to high-income economies (% of total merchandise exports)',\n",
       " 'Merchandise imports (current US$)',\n",
       " 'Merchandise imports by the reporting economy (current US$)',\n",
       " 'Merchandise imports by the reporting economy, residual (% of total merchandise imports)',\n",
       " 'Merchandise imports from developing economies in East Asia & Pacific (% of total merchandise imports)',\n",
       " 'Merchandise imports from developing economies in Latin America & the Caribbean (% of total merchandise imports)',\n",
       " 'Merchandise imports from developing economies in Middle East & North Africa (% of total merchandise imports)',\n",
       " 'Merchandise imports from developing economies in South Asia (% of total merchandise imports)',\n",
       " 'Merchandise imports from developing economies in Sub-Saharan Africa (% of total merchandise imports)',\n",
       " 'Merchandise imports from developing economies outside region (% of total merchandise imports)',\n",
       " 'Merchandise imports from developing economies within region (% of total merchandise imports)',\n",
       " 'Merchandise imports from economies in the Arab World (% of total merchandise imports)',\n",
       " 'Merchandise imports from high-income economies (% of total merchandise imports)',\n",
       " 'Merchandise trade (% of GDP)',\n",
       " 'Mobile cellular subscriptions',\n",
       " 'Mobile cellular subscriptions (per 100 people)',\n",
       " 'Mortality rate, adult, female (per 1,000 female adults)',\n",
       " 'Mortality rate, adult, male (per 1,000 male adults)',\n",
       " 'Mortality rate, infant (per 1,000 live births)',\n",
       " 'Mortality rate, under-5 (per 1,000)',\n",
       " 'Net bilateral aid flows from DAC donors, European Union institutions (current US$)',\n",
       " 'Net bilateral aid flows from DAC donors, France (current US$)',\n",
       " 'Net bilateral aid flows from DAC donors, Germany (current US$)',\n",
       " 'Net bilateral aid flows from DAC donors, Italy (current US$)',\n",
       " 'Net bilateral aid flows from DAC donors, Japan (current US$)',\n",
       " 'Net bilateral aid flows from DAC donors, Total (current US$)',\n",
       " 'Net bilateral aid flows from DAC donors, United Kingdom (current US$)',\n",
       " 'Net bilateral aid flows from DAC donors, United States (current US$)',\n",
       " 'Net ODA received per capita (current US$)',\n",
       " 'Net official development assistance and official aid received (constant 2012 US$)',\n",
       " 'Net official development assistance and official aid received (current US$)',\n",
       " 'Net official development assistance received (constant 2012 US$)',\n",
       " 'Net official development assistance received (current US$)',\n",
       " 'Population ages 65 and above (% of total)',\n",
       " 'Population in the largest city (% of urban population)',\n",
       " 'Population in urban agglomerations of more than 1 million (% of total population)',\n",
       " 'Population, ages 0-14 (% of total)',\n",
       " 'Population, ages 15-64 (% of total)',\n",
       " 'Population, female (% of total)',\n",
       " 'Population, total',\n",
       " 'Rural population',\n",
       " 'Rural population (% of total population)',\n",
       " 'Survival to age 65, female (% of cohort)',\n",
       " 'Survival to age 65, male (% of cohort)',\n",
       " 'Urban population',\n",
       " 'Urban population (% of total)',\n",
       " 'Exports of goods and services (current US$)',\n",
       " 'GDP at market prices (current US$)',\n",
       " 'GDP per capita (current US$)',\n",
       " 'GNI (current US$)',\n",
       " 'Gross capital formation (current US$)',\n",
       " 'Net bilateral aid flows from DAC donors, Canada (current US$)',\n",
       " 'Net bilateral aid flows from DAC donors, Netherlands (current US$)',\n",
       " 'Net ODA received (% of GNI)',\n",
       " 'Net ODA received (% of gross capital formation)',\n",
       " 'Alternative and nuclear energy (% of total energy use)',\n",
       " 'CO2 emissions from electricity and heat production, total (% of total fuel combustion)',\n",
       " 'CO2 emissions from manufacturing industries and construction (% of total fuel combustion)',\n",
       " 'CO2 emissions from other sectors, excluding residential buildings and commercial and public services (% of total fuel combustion)',\n",
       " 'CO2 emissions from residential buildings and commercial and public services (% of total fuel combustion)',\n",
       " 'CO2 emissions from solid fuel consumption (kt)',\n",
       " 'CO2 emissions from transport (% of total fuel combustion)',\n",
       " 'CO2 intensity (kg per kg of oil equivalent energy use)',\n",
       " 'Combustible renewables and waste (% of total energy)',\n",
       " 'Electric power transmission and distribution losses (% of output)',\n",
       " 'Electricity production from renewable sources, excluding hydroelectric (kWh)',\n",
       " 'Energy imports, net (% of energy use)',\n",
       " 'Fossil fuel energy consumption (% of total)',\n",
       " 'Agriculture, value added (constant 2005 US$)',\n",
       " 'CO2 emissions (kg per 2005 US$ of GDP)',\n",
       " 'Exports of goods and services (% of GDP)',\n",
       " 'External balance on goods and services (% of GDP)',\n",
       " 'GDP at market prices (constant 2005 US$)',\n",
       " 'GDP per capita (constant 2005 US$)',\n",
       " 'General government final consumption expenditure (% of GDP)',\n",
       " 'General government final consumption expenditure (constant 2005 US$)',\n",
       " 'General government final consumption expenditure (current US$)',\n",
       " 'GNI (constant 2005 US$)',\n",
       " 'GNI per capita (constant 2005 US$)',\n",
       " 'Gross domestic income (constant 2005 US$)',\n",
       " 'Gross fixed capital formation (% of GDP)',\n",
       " 'Gross fixed capital formation (current US$)',\n",
       " 'Gross national expenditure (constant 2005 US$)',\n",
       " 'Gross national expenditure (current US$)',\n",
       " 'Imports of goods and services (% of GDP)',\n",
       " 'Imports of goods and services (current US$)',\n",
       " 'Net bilateral aid flows from DAC donors, Austria (current US$)',\n",
       " 'Net bilateral aid flows from DAC donors, Belgium (current US$)',\n",
       " 'Net bilateral aid flows from DAC donors, Denmark (current US$)',\n",
       " 'Net bilateral aid flows from DAC donors, Korea, Rep. (current US$)',\n",
       " 'Net bilateral aid flows from DAC donors, Norway (current US$)',\n",
       " 'Net bilateral aid flows from DAC donors, Portugal (current US$)',\n",
       " 'Net bilateral aid flows from DAC donors, Sweden (current US$)',\n",
       " 'Net bilateral aid flows from DAC donors, Switzerland (current US$)',\n",
       " 'Portfolio equity, net inflows (BoP, current US$)',\n",
       " 'Trade (% of GDP)',\n",
       " 'Agriculture, value added (% of GDP)',\n",
       " 'Agriculture, value added (current US$)',\n",
       " 'Final consumption expenditure, etc. (current US$)',\n",
       " 'Gross capital formation (% of GDP)',\n",
       " 'Gross domestic savings (% of GDP)',\n",
       " 'Gross domestic savings (current US$)',\n",
       " 'Household final consumption expenditure (current US$)',\n",
       " 'Household final consumption expenditure, etc. (% of GDP)',\n",
       " 'Household final consumption expenditure, etc. (current US$)',\n",
       " 'Industry, value added (% of GDP)',\n",
       " 'Industry, value added (constant 2005 US$)',\n",
       " 'Industry, value added (current US$)',\n",
       " 'Manufacturing, value added (% of GDP)',\n",
       " 'Manufacturing, value added (current US$)',\n",
       " 'Services, etc., value added (% of GDP)',\n",
       " 'Services, etc., value added (constant 2005 US$)',\n",
       " 'Services, etc., value added (current US$)',\n",
       " 'Electric power consumption (kWh per capita)',\n",
       " 'Electricity production from coal sources (% of total)',\n",
       " 'Electricity production from hydroelectric sources (% of total)',\n",
       " 'Electricity production from natural gas sources (% of total)',\n",
       " 'Electricity production from nuclear sources (% of total)',\n",
       " 'Electricity production from oil sources (% of total)',\n",
       " 'Electricity production from oil, gas and coal sources (% of total)',\n",
       " 'Electricity production from renewable sources, excluding hydroelectric (% of total)',\n",
       " 'Energy use (kg of oil equivalent per capita)',\n",
       " 'Exports of goods and services (constant 2005 US$)',\n",
       " 'Imports of goods and services (constant 2005 US$)',\n",
       " 'Trademark applications, direct nonresident',\n",
       " 'Trademark applications, direct resident',\n",
       " 'Trademark applications, total',\n",
       " 'Number of infant deaths',\n",
       " 'Number of under-five deaths',\n",
       " 'CO2 emissions from gaseous fuel consumption (kt)',\n",
       " 'Gross fixed capital formation (constant 2005 US$)',\n",
       " 'Final consumption expenditure (constant 2005 US$)',\n",
       " 'Final consumption expenditure, etc. (constant 2005 US$)',\n",
       " 'Gross capital formation (constant 2005 US$)',\n",
       " 'Gross value added at factor cost (current US$)',\n",
       " 'Household final consumption expenditure (constant 2005 US$)',\n",
       " 'Household final consumption expenditure per capita (constant 2005 US$)',\n",
       " 'Household final consumption expenditure, etc. (constant 2005 US$)',\n",
       " 'Manufacturing, value added (constant 2005 US$)',\n",
       " 'Gross fixed capital formation, private sector (% of GDP)',\n",
       " 'Patent applications, nonresidents',\n",
       " 'Patent applications, residents',\n",
       " 'Gross value added at factor cost (constant 2005 US$)',\n",
       " 'DEC alternative conversion factor (LCU per US$)',\n",
       " 'Exports of goods and services (current LCU)',\n",
       " 'External balance on goods and services (current LCU)',\n",
       " 'External balance on goods and services (current US$)',\n",
       " 'Final consumption expenditure (current LCU)',\n",
       " 'Final consumption expenditure (current US$)',\n",
       " 'Final consumption expenditure, etc. (% of GDP)',\n",
       " 'Final consumption expenditure, etc. (current LCU)',\n",
       " 'GDP (current LCU)',\n",
       " 'GDP per capita (current LCU)',\n",
       " 'GNI (current LCU)',\n",
       " 'GNI per capita (current LCU)',\n",
       " 'Gross capital formation (current LCU)',\n",
       " 'Gross domestic savings (current LCU)',\n",
       " 'Gross national expenditure (% of GDP)',\n",
       " 'Gross national expenditure (current LCU)',\n",
       " 'Gross value added at factor cost (current LCU)',\n",
       " 'Household final consumption expenditure (current LCU)',\n",
       " 'Imports of goods and services (current LCU)',\n",
       " 'Net income from abroad (current LCU)',\n",
       " 'Net income from abroad (current US$)',\n",
       " 'Net taxes on products (current LCU)',\n",
       " 'Net taxes on products (current US$)',\n",
       " 'Official exchange rate (LCU per US$, period average)',\n",
       " 'Physicians (per 1,000 people)',\n",
       " 'Population growth (annual %)',\n",
       " 'Population in largest city',\n",
       " 'Population in urban agglomerations of more than 1 million',\n",
       " 'Rural population growth (annual %)',\n",
       " 'Total reserves (includes gold, current US$)',\n",
       " 'Total reserves minus gold (current US$)',\n",
       " 'Urban population growth (annual %)',\n",
       " 'Agriculture, value added (constant LCU)',\n",
       " 'Agriculture, value added (current LCU)',\n",
       " 'Discrepancy in expenditure estimate of GDP (constant LCU)',\n",
       " 'Discrepancy in expenditure estimate of GDP (current LCU)',\n",
       " 'Exports as a capacity to import (constant LCU)',\n",
       " 'Exports of goods and services (constant LCU)',\n",
       " 'External balance on goods and services (constant LCU)',\n",
       " 'Final consumption expenditure (constant LCU)',\n",
       " 'Final consumption expenditure, etc. (constant LCU)',\n",
       " 'GDP (constant LCU)',\n",
       " 'GDP deflator (base year varies by country)',\n",
       " 'GDP per capita (constant LCU)',\n",
       " 'General government final consumption expenditure (constant LCU)',\n",
       " 'General government final consumption expenditure (current LCU)',\n",
       " 'GNI (constant LCU)',\n",
       " 'GNI per capita (constant LCU)',\n",
       " 'Gross capital formation (constant LCU)',\n",
       " 'Gross domestic income (constant LCU)',\n",
       " 'Gross domestic savings (constant LCU)',\n",
       " 'Gross national expenditure (constant LCU)',\n",
       " 'Gross national expenditure deflator (base year varies by country)',\n",
       " 'Household final consumption expenditure (constant LCU)',\n",
       " 'Household final consumption expenditure, etc. (constant LCU)',\n",
       " 'Household final consumption expenditure, etc. (current LCU)',\n",
       " 'Imports of goods and services (constant LCU)',\n",
       " 'Industry, value added (constant LCU)',\n",
       " 'Industry, value added (current LCU)',\n",
       " 'Manufacturing, value added (current LCU)',\n",
       " 'Terms of trade adjustment (constant LCU)',\n",
       " 'Changes in inventories (constant LCU)',\n",
       " 'Changes in inventories (current LCU)',\n",
       " 'Gross fixed capital formation (constant LCU)',\n",
       " 'Gross fixed capital formation (current LCU)',\n",
       " 'Adjusted savings: gross savings (% of GNI)',\n",
       " 'Changes in inventories (current US$)',\n",
       " 'Consumer price index (2010 = 100)',\n",
       " 'Gross savings (% of GDP)',\n",
       " 'Gross savings (% of GNI)',\n",
       " 'Gross savings (current LCU)',\n",
       " 'Gross savings (current US$)',\n",
       " 'Net current transfers from abroad (current LCU)',\n",
       " 'Net current transfers from abroad (current US$)',\n",
       " 'Net secondary income (BoP, current US$)',\n",
       " 'Wholesale price index (2010 = 100)',\n",
       " 'Net current transfers from abroad (constant LCU)',\n",
       " 'Gross value added at factor cost (constant LCU)',\n",
       " 'Manufacturing, value added (constant LCU)',\n",
       " 'Services, etc., value added (constant LCU)',\n",
       " 'Services, etc., value added (current LCU)',\n",
       " 'Net income from abroad (constant LCU)',\n",
       " 'Deposit interest rate (%)',\n",
       " 'Internet users (per 100 people)',\n",
       " 'Net taxes on products (constant LCU)',\n",
       " 'Lending interest rate (%)',\n",
       " 'Risk premium on lending (lending rate minus treasury bill rate, %)',\n",
       " 'Gross fixed capital formation, private sector (current LCU)',\n",
       " 'Interest rate spread (lending rate minus deposit rate, %)',\n",
       " 'Agricultural land (% of land area)',\n",
       " 'Agricultural land (sq. km)',\n",
       " 'Agricultural machinery, tractors',\n",
       " 'Agricultural machinery, tractors per 100 sq. km of arable land',\n",
       " 'Arable land (% of land area)',\n",
       " 'Arable land (hectares per person)',\n",
       " 'Cereal production (metric tons)',\n",
       " 'Cereal yield (kg per hectare)',\n",
       " 'Crop production index (2004-2006 = 100)',\n",
       " 'Food production index (2004-2006 = 100)',\n",
       " 'Land area (sq. km)',\n",
       " 'Land under cereal production (hectares)',\n",
       " 'Livestock production index (2004-2006 = 100)',\n",
       " 'Permanent cropland (% of land area)',\n",
       " 'Population density (people per sq. km of land area)',\n",
       " 'Surface area (sq. km)',\n",
       " 'Agriculture, value added (annual % growth)',\n",
       " 'GDP growth (annual %)',\n",
       " 'GDP per capita growth (annual %)',\n",
       " 'General government final consumption expenditure (annual % growth)',\n",
       " 'GNI growth (annual %)',\n",
       " 'GNI per capita growth (annual %)',\n",
       " 'Industry, value added (annual % growth)',\n",
       " 'Services, etc., value added (annual % growth)',\n",
       " 'Exports of goods and services (annual % growth)',\n",
       " 'Imports of goods and services (annual % growth)',\n",
       " 'Inflation, consumer prices (annual %)',\n",
       " 'Inflation, GDP deflator (annual %)',\n",
       " 'Gross fixed capital formation (annual % growth)',\n",
       " 'Final consumption expenditure, etc. (annual % growth)',\n",
       " 'Gross capital formation (annual % growth)',\n",
       " 'Household final consumption expenditure (annual % growth)',\n",
       " 'Household final consumption expenditure per capita growth (annual %)',\n",
       " 'Household final consumption expenditure, etc. (annual % growth)',\n",
       " 'Manufacturing, value added (annual % growth)',\n",
       " 'Arable land (hectares)',\n",
       " 'Real interest rate (%)',\n",
       " 'Maternal mortality ratio (national estimate, per 100,000 live births)',\n",
       " 'Net migration',\n",
       " 'Renewable internal freshwater resources per capita (cubic meters)',\n",
       " 'Renewable internal freshwater resources, total (billion cubic meters)',\n",
       " 'GNI per capita, Atlas method (current US$)',\n",
       " 'GNI, Atlas method (current US$)',\n",
       " 'Agricultural raw materials exports (% of merchandise exports)',\n",
       " 'Agricultural raw materials imports (% of merchandise imports)',\n",
       " 'Food exports (% of merchandise exports)',\n",
       " 'Food imports (% of merchandise imports)',\n",
       " 'Fuel exports (% of merchandise exports)',\n",
       " 'Fuel imports (% of merchandise imports)',\n",
       " 'Manufactures exports (% of merchandise exports)',\n",
       " 'Manufactures imports (% of merchandise imports)',\n",
       " 'Ores and metals exports (% of merchandise exports)',\n",
       " 'Ores and metals imports (% of merchandise imports)',\n",
       " 'Average precipitation in depth (mm per year)',\n",
       " 'Annual freshwater withdrawals, total (% of internal resources)',\n",
       " 'Annual freshwater withdrawals, total (billion cubic meters)',\n",
       " 'Chemicals (% of value added in manufacturing)',\n",
       " 'Food, beverages and tobacco (% of value added in manufacturing)',\n",
       " 'Machinery and transport equipment (% of value added in manufacturing)',\n",
       " 'Other manufacturing (% of value added in manufacturing)',\n",
       " 'Textiles and clothing (% of value added in manufacturing)',\n",
       " 'Net bilateral aid flows from DAC donors, Australia (current US$)',\n",
       " 'Prevalence of stunting, height for age (% of children under 5)',\n",
       " 'Prevalence of underweight, weight for age (% of children under 5)',\n",
       " 'Prevalence of wasting, weight for height (% of children under 5)',\n",
       " 'Water productivity, total (constant 2005 US$ GDP per cubic meter of total freshwater withdrawal)',\n",
       " 'Annual freshwater withdrawals, agriculture (% of total freshwater withdrawal)',\n",
       " 'Annual freshwater withdrawals, domestic (% of total freshwater withdrawal)',\n",
       " 'Annual freshwater withdrawals, industry (% of total freshwater withdrawal)',\n",
       " 'Net official flows from UN agencies, UNDP (current US$)',\n",
       " 'Contraceptive prevalence (% of women ages 15-49)',\n",
       " 'Net official flows from UN agencies, UNHCR (current US$)',\n",
       " 'Net official flows from UN agencies, UNRWA (current US$)',\n",
       " 'Net official flows from UN agencies, UNTA (current US$)',\n",
       " 'Net official flows from UN agencies, WFP (current US$)',\n",
       " 'Prevalence of overweight, weight for height (% of children under 5)',\n",
       " 'Adjusted net enrolment rate, primary, both sexes (%)',\n",
       " 'Adjusted net enrolment rate, primary, female (%)',\n",
       " 'Adjusted net enrolment rate, primary, male (%)',\n",
       " 'Adjusted savings: carbon dioxide damage (% of GNI)',\n",
       " 'Adjusted savings: consumption of fixed capital (% of GNI)',\n",
       " 'Adjusted savings: education expenditure (% of GNI)',\n",
       " 'Adjusted savings: energy depletion (% of GNI)',\n",
       " 'Adjusted savings: mineral depletion (% of GNI)',\n",
       " 'Adjusted savings: natural resources depletion (% of GNI)',\n",
       " 'Adjusted savings: net forest depletion (% of GNI)',\n",
       " 'Air transport, freight (million ton-km)',\n",
       " 'Air transport, passengers carried',\n",
       " 'Air transport, registered carrier departures worldwide',\n",
       " 'Coal rents (% of GDP)',\n",
       " 'Enrolment in primary education, both sexes (number)',\n",
       " 'Enrolment in secondary education, both sexes (number)',\n",
       " 'Enrolment in secondary general, both sexes (number)',\n",
       " 'Enrolment in secondary vocational, both sexes (number)',\n",
       " 'Foreign direct investment, net inflows (% of GDP)',\n",
       " 'Foreign direct investment, net inflows (BoP, current US$)',\n",
       " 'Forest rents (% of GDP)',\n",
       " 'Gross enrolment ratio, pre-primary, both sexes (%)',\n",
       " 'Gross enrolment ratio, pre-primary, female (%)',\n",
       " 'Gross enrolment ratio, pre-primary, male (%)',\n",
       " 'Gross enrolment ratio, primary and secondary, gender parity index (GPI)',\n",
       " 'Gross enrolment ratio, primary, both sexes (%)',\n",
       " 'Gross enrolment ratio, primary, female (%)',\n",
       " 'Gross enrolment ratio, primary, gender parity index (GPI)',\n",
       " 'Gross enrolment ratio, primary, male (%)',\n",
       " 'Gross enrolment ratio, secondary, both sexes (%)',\n",
       " 'Gross enrolment ratio, secondary, female (%)',\n",
       " 'Gross enrolment ratio, secondary, gender parity index (GPI)',\n",
       " 'Gross enrolment ratio, secondary, male (%)',\n",
       " 'Gross enrolment ratio, tertiary, both sexes (%)',\n",
       " 'Gross enrolment ratio, tertiary, female (%)',\n",
       " 'Gross enrolment ratio, tertiary, gender parity index (GPI)',\n",
       " 'Gross enrolment ratio, tertiary, male (%)',\n",
       " 'Lower secondary completion rate, both sexes (%)',\n",
       " 'Mineral rents (% of GDP)',\n",
       " 'Natural gas rents (% of GDP)',\n",
       " 'Net enrolment rate, primary, both sexes (%)',\n",
       " 'Net enrolment rate, primary, female (%)',\n",
       " 'Net enrolment rate, primary, male (%)',\n",
       " 'Net enrolment rate, secondary, both sexes (%)',\n",
       " 'Net enrolment rate, secondary, female (%)',\n",
       " 'Net enrolment rate, secondary, male (%)',\n",
       " 'Net official flows from UN agencies, UNICEF (current US$)',\n",
       " 'Oil rents (% of GDP)',\n",
       " 'Out-of-school children of primary school age, both sexes (number)',\n",
       " 'Out-of-school children of primary school age, female (number)',\n",
       " 'Out-of-school children of primary school age, male (number)',\n",
       " 'Percentage of enrolment in primary education in private institutions (%)',\n",
       " 'Percentage of repeaters in primary education, all grades, both sexes (%)',\n",
       " 'Percentage of repeaters in primary education, all grades, female (%)',\n",
       " 'Percentage of repeaters in primary education, all grades, male (%)',\n",
       " 'Percentage of students in primary education who are female (%)',\n",
       " 'Percentage of students in secondary education who are female (%)',\n",
       " 'Percentage of students in secondary general education who are female (%)',\n",
       " 'Percentage of students in secondary vocational education who are female (%)',\n",
       " 'Percentage of teachers in primary education who are female (%)',\n",
       " 'Percentage of teachers in secondary education who are female (%)',\n",
       " 'Personal remittances, received (current US$)',\n",
       " 'Primary completion rate, both sexes (%)',\n",
       " 'Primary completion rate, female (%)',\n",
       " 'Primary completion rate, male (%)',\n",
       " 'Public and publicly guaranteed debt service (% of GNI)',\n",
       " 'Pupil-teacher ratio in primary education (headcount basis)',\n",
       " 'Pupil-teacher ratio in secondary education (headcount basis)',\n",
       " 'Survival rate to the last grade of primary education, both sexes (%)',\n",
       " 'Teachers in primary education, both sexes (number)',\n",
       " 'Teachers in secondary education, both sexes (number)',\n",
       " 'Teachers in secondary education, female (number)',\n",
       " 'Total debt service (% of GNI)',\n",
       " 'Total natural resources rents (% of GDP)',\n",
       " 'Adjusted net national income (current US$)',\n",
       " 'Adjusted net national income per capita (current US$)',\n",
       " 'Lower secondary completion rate, female (%)',\n",
       " 'Lower secondary completion rate, male (%)',\n",
       " 'Net financial flows, IBRD (NFL, current US$)',\n",
       " 'Net financial flows, IDA (NFL, current US$)',\n",
       " 'Personal remittances, paid (current US$)',\n",
       " 'Gross intake ratio to Grade 1 of primary education, both sexes (%)',\n",
       " 'Primary to secondary general education transition rate, both sexes (%)',\n",
       " 'Adjusted net national income (constant 2005 US$)',\n",
       " 'Adjusted net national income per capita (constant 2005 US$)',\n",
       " 'Net bilateral aid flows from DAC donors, Finland (current US$)',\n",
       " 'Net bilateral aid flows from DAC donors, New Zealand (current US$)',\n",
       " 'Percentage of teachers in tertiary education who are female (%)',\n",
       " 'Average grace period on new external debt commitments (years)',\n",
       " 'Average grace period on new external debt commitments, official (years)',\n",
       " 'Average grace period on new external debt commitments, private (years)',\n",
       " 'Average grant element on new external debt commitments (%)',\n",
       " 'Average grant element on new external debt commitments, official (%)',\n",
       " 'Average grant element on new external debt commitments, private (%)',\n",
       " 'Average interest on new external debt commitments (%)',\n",
       " 'Average interest on new external debt commitments, official (%)',\n",
       " 'Average interest on new external debt commitments, private (%)',\n",
       " 'Average maturity on new external debt commitments (years)',\n",
       " 'Average maturity on new external debt commitments, official (years)',\n",
       " 'Average maturity on new external debt commitments, private (years)',\n",
       " 'Commercial banks and other lending (PPG + PNG) (NFL, current US$)',\n",
       " 'Commitments, IBRD (COM, current US$)',\n",
       " 'Commitments, IDA (COM, current US$)',\n",
       " 'Commitments, official creditors (COM, current US$)',\n",
       " 'Commitments, private creditors (COM, current US$)',\n",
       " 'Commitments, public and publicly guaranteed (COM, current US$)',\n",
       " 'Concessional debt (% of total external debt)',\n",
       " 'Currency composition of PPG debt, all other currencies (%)',\n",
       " 'Currency composition of PPG debt, Deutsche mark (%)',\n",
       " 'Currency composition of PPG debt, French franc (%)',\n",
       " 'Currency composition of PPG debt, Japanese yen (%)',\n",
       " 'Currency composition of PPG debt, Multiple currencies (%)',\n",
       " 'Currency composition of PPG debt, Pound sterling (%)',\n",
       " 'Currency composition of PPG debt, SDR (%)',\n",
       " 'Currency composition of PPG debt, Swiss franc (%)',\n",
       " 'Currency composition of PPG debt, U.S. dollars (%)',\n",
       " 'Debt forgiveness grants (current US$)',\n",
       " 'Debt service on external debt, long-term (TDS, current US$)',\n",
       " 'Debt service on external debt, private nonguaranteed (PNG) (TDS, current US$)',\n",
       " 'Debt service on external debt, public and publicly guaranteed (PPG) (TDS, current US$)',\n",
       " 'Debt service on external debt, total (TDS, current US$)',\n",
       " 'Disbursements on external debt, long-term (DIS, current US$)',\n",
       " 'Disbursements on external debt, long-term + IMF (DIS, current US$)',\n",
       " 'Disbursements on external debt, private nonguaranteed (PNG) (DIS, current US$)',\n",
       " 'Disbursements on external debt, public and publicly guaranteed (PPG) (DIS, current US$)',\n",
       " 'EBRD, private nonguaranteed (NFL, current US$)',\n",
       " 'External debt stocks (% of GNI)',\n",
       " 'External debt stocks, concessional (DOD, current US$)',\n",
       " 'External debt stocks, long-term (DOD, current US$)',\n",
       " 'External debt stocks, long-term private sector (DOD, current US$)',\n",
       " 'External debt stocks, long-term public sector (DOD, current US$)',\n",
       " 'External debt stocks, private nonguaranteed (PNG) (DOD, current US$)',\n",
       " 'External debt stocks, public and publicly guaranteed (PPG) (DOD, current US$)',\n",
       " 'External debt stocks, short-term (DOD, current US$)',\n",
       " 'External debt stocks, total (DOD, current US$)',\n",
       " 'External debt stocks, variable rate (DOD, current US$)',\n",
       " 'IBRD loans and IDA credits (DOD, current US$)',\n",
       " 'IDA grants (current US$)',\n",
       " 'IFC, private nonguaranteed (NFL, current US$)',\n",
       " 'IMF charges (INT, current US$)',\n",
       " 'IMF purchases (DIS, current US$)',\n",
       " 'IMF repurchases (AMT, current US$)',\n",
       " 'IMF repurchases and charges (TDS, current US$)',\n",
       " 'Interest arrears, long-term DOD (US$)',\n",
       " 'Interest arrears, official creditors (current US$)',\n",
       " 'Interest arrears, private creditors (current US$)',\n",
       " 'Interest payments on external debt (% of GNI)',\n",
       " 'Interest payments on external debt, long-term (INT, current US$)',\n",
       " 'Interest payments on external debt, private nonguaranteed (PNG) (INT, current US$)',\n",
       " 'Interest payments on external debt, public and publicly guaranteed (PPG) (INT, current US$)',\n",
       " 'Interest payments on external debt, short-term (INT, current US$)',\n",
       " 'Interest payments on external debt, total (INT, current US$)',\n",
       " 'Multilateral debt (% of total external debt)',\n",
       " 'Multilateral debt service (% of public and publicly guaranteed debt service)',\n",
       " 'Multilateral debt service (TDS, current US$)',\n",
       " 'Net financial flows, bilateral (NFL, current US$)',\n",
       " 'Net financial flows, IMF concessional (NFL, current US$)',\n",
       " 'Net financial flows, IMF nonconcessional (NFL, current US$)',\n",
       " 'Net financial flows, multilateral (NFL, current US$)',\n",
       " 'Net financial flows, others (NFL, current US$)',\n",
       " 'Net financial flows, RDB concessional (NFL, current US$)',\n",
       " 'Net financial flows, RDB nonconcessional (NFL, current US$)',\n",
       " 'Net flows on external debt, long-term (NFL, current US$)',\n",
       " 'Net flows on external debt, private nonguaranteed (PNG) (NFL, current US$)',\n",
       " 'Net flows on external debt, public and publicly guaranteed (PPG) (NFL, current US$)',\n",
       " 'Net flows on external debt, short-term (NFL, current US$)',\n",
       " 'Net flows on external debt, total (NFL, current US$)',\n",
       " 'Net transfers on external debt, long-term (NTR, current US$)',\n",
       " 'Net transfers on external debt, private nonguaranteed (PNG) (NTR, current US$)',\n",
       " 'Net transfers on external debt, public and publicly guaranteed (PPG) (NTR, current US$)',\n",
       " 'Net transfers on external debt, total (NTR, current US$)',\n",
       " 'PNG, bonds (AMT, current US$)',\n",
       " 'PNG, bonds (DIS, current US$)',\n",
       " 'PNG, bonds (DOD, current US$)',\n",
       " 'PNG, bonds (INT, current US$)',\n",
       " 'PNG, bonds (NFL, current US$)',\n",
       " 'PNG, bonds (NTR, current US$)',\n",
       " 'PNG, bonds (TDS, current US$)',\n",
       " 'PNG, commercial banks and other creditors (AMT, current US$)',\n",
       " 'PNG, commercial banks and other creditors (DIS, current US$)',\n",
       " 'PNG, commercial banks and other creditors (DOD, current US$)',\n",
       " 'PNG, commercial banks and other creditors (INT, current US$)',\n",
       " 'PNG, commercial banks and other creditors (NFL, current US$)',\n",
       " 'PNG, commercial banks and other creditors (NTR, current US$)',\n",
       " 'PNG, commercial banks and other creditors (TDS, current US$)',\n",
       " 'Portfolio investment, bonds (PPG + PNG) (NFL, current US$)',\n",
       " 'PPG, bilateral (AMT, current US$)',\n",
       " 'PPG, bilateral (DIS, current US$)',\n",
       " 'PPG, bilateral (DOD, current US$)',\n",
       " 'PPG, bilateral (INT, current US$)',\n",
       " 'PPG, bilateral (NTR, current US$)',\n",
       " 'PPG, bilateral (TDS, current US$)',\n",
       " 'PPG, bilateral concessional (AMT, current US$)',\n",
       " 'PPG, bilateral concessional (DIS, current US$)',\n",
       " 'PPG, bilateral concessional (DOD, current US$)',\n",
       " 'PPG, bilateral concessional (INT, current US$)',\n",
       " 'PPG, bilateral concessional (NFL, current US$)',\n",
       " 'PPG, bilateral concessional (NTR, current US$)',\n",
       " 'PPG, bilateral concessional (TDS, current US$)',\n",
       " 'PPG, bonds (AMT, current US$)',\n",
       " 'PPG, bonds (DIS, current US$)',\n",
       " 'PPG, bonds (DOD, current US$)',\n",
       " 'PPG, bonds (INT, current US$)',\n",
       " 'PPG, bonds (NFL, current US$)',\n",
       " 'PPG, bonds (NTR, current US$)',\n",
       " 'PPG, bonds (TDS, current US$)',\n",
       " 'PPG, commercial banks (AMT, current US$)',\n",
       " 'PPG, commercial banks (DIS, current US$)',\n",
       " 'PPG, commercial banks (DOD, current US$)',\n",
       " 'PPG, commercial banks (INT, current US$)',\n",
       " 'PPG, commercial banks (NFL, current US$)',\n",
       " 'PPG, commercial banks (NTR, current US$)',\n",
       " 'PPG, commercial banks (TDS, current US$)',\n",
       " 'PPG, IBRD (AMT, current US$)',\n",
       " 'PPG, IBRD (DIS, current US$)',\n",
       " 'PPG, IBRD (DOD, current US$)',\n",
       " 'PPG, IBRD (INT, current US$)',\n",
       " 'PPG, IBRD (NTR, current US$)',\n",
       " 'PPG, IBRD (TDS, current US$)',\n",
       " 'PPG, IDA (AMT, current US$)',\n",
       " 'PPG, IDA (DIS, current US$)',\n",
       " 'PPG, IDA (DOD, current US$)',\n",
       " 'PPG, IDA (INT, current US$)',\n",
       " 'PPG, IDA (NTR, current US$)',\n",
       " 'PPG, IDA (TDS, current US$)',\n",
       " 'PPG, multilateral (AMT, current US$)',\n",
       " 'PPG, multilateral (DIS, current US$)',\n",
       " 'PPG, multilateral (DOD, current US$)',\n",
       " 'PPG, multilateral (INT, current US$)',\n",
       " 'PPG, multilateral (NTR, current US$)',\n",
       " 'PPG, multilateral concessional (AMT, current US$)',\n",
       " 'PPG, multilateral concessional (DIS, current US$)',\n",
       " 'PPG, multilateral concessional (DOD, current US$)',\n",
       " 'PPG, multilateral concessional (INT, current US$)',\n",
       " 'PPG, multilateral concessional (NFL, current US$)',\n",
       " 'PPG, multilateral concessional (NTR, current US$)',\n",
       " 'PPG, multilateral concessional (TDS, current US$)',\n",
       " 'PPG, official creditors (AMT, current US$)',\n",
       " 'PPG, official creditors (DIS, current US$)',\n",
       " 'PPG, official creditors (DOD, current US$)',\n",
       " 'PPG, official creditors (INT, current US$)',\n",
       " 'PPG, official creditors (NFL, current US$)',\n",
       " 'PPG, official creditors (NTR, current US$)',\n",
       " 'PPG, official creditors (TDS, current US$)',\n",
       " 'PPG, other private creditors (AMT, current US$)',\n",
       " 'PPG, other private creditors (DIS, current US$)',\n",
       " 'PPG, other private creditors (DOD, current US$)',\n",
       " 'PPG, other private creditors (INT, current US$)',\n",
       " 'PPG, other private creditors (NFL, current US$)',\n",
       " 'PPG, other private creditors (NTR, current US$)',\n",
       " 'PPG, other private creditors (TDS, current US$)',\n",
       " 'PPG, private creditors (AMT, current US$)',\n",
       " 'PPG, private creditors (DIS, current US$)',\n",
       " 'PPG, private creditors (DOD, current US$)',\n",
       " 'PPG, private creditors (INT, current US$)',\n",
       " 'PPG, private creditors (NFL, current US$)',\n",
       " 'PPG, private creditors (NTR, current US$)',\n",
       " 'PPG, private creditors (TDS, current US$)',\n",
       " 'Primary income on FDI, payments (current US$)',\n",
       " 'Principal arrears, long-term DOD (US$)',\n",
       " 'Principal arrears, official creditors (current US$)',\n",
       " 'Principal arrears, private creditors (current US$)',\n",
       " 'Principal repayments on external debt, long-term (AMT, current US$)',\n",
       " 'Principal repayments on external debt, long-term + IMF (AMT, current US$)',\n",
       " 'Principal repayments on external debt, private nonguaranteed (PNG) (AMT, current US$)',\n",
       " 'Principal repayments on external debt, public and publicly guaranteed (PPG) (AMT, current US$)',\n",
       " 'Short-term debt (% of total external debt)',\n",
       " 'Short-term debt (% of total reserves)',\n",
       " 'Undisbursed external debt, official creditors (UND, current US$)',\n",
       " 'Undisbursed external debt, private creditors (UND, current US$)',\n",
       " 'Undisbursed external debt, total (UND, current US$)',\n",
       " 'Use of IMF credit (DOD, current US$)',\n",
       " 'Gross intake ratio to Grade 1 of primary education, female (%)',\n",
       " 'Gross intake ratio to Grade 1 of primary education, male (%)',\n",
       " 'Survival rate to the last grade of primary education, female (%)',\n",
       " 'Survival rate to the last grade of primary education, male (%)',\n",
       " 'Percentage of repeaters in secondary general education, all grades, both sexes (%)',\n",
       " 'Percentage of repeaters in secondary general education, all grades, female (%)',\n",
       " 'Percentage of repeaters in secondary general education, all grades, male (%)',\n",
       " 'Primary to secondary general education transition rate, female (%)',\n",
       " 'Primary to secondary general education transition rate, male (%)',\n",
       " 'Adjusted net savings, excluding particulate emission damage (% of GNI)',\n",
       " 'Adjusted savings: net national savings (% of GNI)',\n",
       " 'Grants, excluding technical cooperation (BoP, current US$)',\n",
       " 'Technical cooperation grants (BoP, current US$)',\n",
       " 'Adjusted savings: carbon dioxide damage (current US$)',\n",
       " 'Adjusted savings: consumption of fixed capital (current US$)',\n",
       " 'Adjusted savings: education expenditure (current US$)',\n",
       " 'Adjusted savings: energy depletion (current US$)',\n",
       " 'Adjusted savings: mineral depletion (current US$)',\n",
       " 'Adjusted savings: net forest depletion (current US$)',\n",
       " 'Official entrance age to lower secondary education (years)',\n",
       " 'Official entrance age to primary education (years)',\n",
       " 'Theoretical duration of primary education (years)',\n",
       " 'Theoretical duration of secondary education (years)',\n",
       " 'Personal remittances, received (% of GDP)',\n",
       " 'Government expenditure on education as % of GDP (%)',\n",
       " 'Survival rate to Grade 5 of primary education, both sexes (%)',\n",
       " 'Survival rate to Grade 5 of primary education, female (%)',\n",
       " 'Survival rate to Grade 5 of primary education, male (%)',\n",
       " 'Adjusted net savings, excluding particulate emission damage (current US$)',\n",
       " 'Adjusted savings: net national savings (current US$)',\n",
       " 'Debt service (PPG and IMF only, % of exports of goods, services and primary income)',\n",
       " 'External debt stocks (% of exports of goods, services and primary income)',\n",
       " 'Interest payments on external debt (% of exports of goods, services and primary income)',\n",
       " 'Total debt service (% of exports of goods, services and primary income)',\n",
       " 'Expenditure on primary as % of government expenditure on education (%)',\n",
       " 'Expenditure on secondary as % of government expenditure on education (%)',\n",
       " 'Expenditure on tertiary as % of government expenditure on education (%)',\n",
       " 'Adult literacy rate, population 15+ years, both sexes (%)',\n",
       " 'Adult literacy rate, population 15+ years, female (%)',\n",
       " 'Adult literacy rate, population 15+ years, male (%)',\n",
       " 'Prevalence of overweight, weight for height, female (% of children under 5)',\n",
       " 'Prevalence of overweight, weight for height, male (% of children under 5)',\n",
       " 'Prevalence of severe wasting, weight for height (% of children under 5)',\n",
       " 'Prevalence of severe wasting, weight for height, female (% of children under 5)',\n",
       " 'Prevalence of severe wasting, weight for height, male (% of children under 5)',\n",
       " 'Prevalence of stunting, height for age, female (% of children under 5)',\n",
       " 'Prevalence of stunting, height for age, male (% of children under 5)',\n",
       " 'Prevalence of underweight, weight for age, female (% of children under 5)',\n",
       " 'Prevalence of underweight, weight for age, male (% of children under 5)',\n",
       " 'Prevalence of wasting, weight for height, female (% of children under 5)',\n",
       " 'Prevalence of wasting, weight for height, male (% of children under 5)',\n",
       " 'Foreign direct investment, net (BoP, current US$)',\n",
       " 'Total reserves (% of total external debt)',\n",
       " 'Adjusted net national income (annual % growth)',\n",
       " 'Adjusted net national income per capita (annual % growth)',\n",
       " 'Net bilateral aid flows from DAC donors, Ireland (current US$)',\n",
       " 'Government expenditure per secondary student as % of GDP per capita (%)',\n",
       " 'Government expenditure per primary student as % of GDP per capita (%)',\n",
       " 'Listed domestic companies, total',\n",
       " 'Market capitalization of listed domestic companies (% of GDP)',\n",
       " 'Market capitalization of listed domestic companies (current US$)',\n",
       " 'Stocks traded, total value (% of GDP)',\n",
       " 'Stocks traded, total value (current US$)',\n",
       " 'Real effective exchange rate index (2010 = 100)',\n",
       " 'Youth literacy rate, population 15-24 years, both sexes (%)',\n",
       " 'Youth literacy rate, population 15-24 years, female (%)',\n",
       " 'Youth literacy rate, population 15-24 years, gender parity index (GPI)',\n",
       " 'Youth literacy rate, population 15-24 years, male (%)',\n",
       " 'Foreign direct investment, net outflows (% of GDP)',\n",
       " 'Stocks traded, turnover ratio of domestic shares (%)',\n",
       " 'Poverty headcount ratio at national poverty lines (% of population)',\n",
       " 'Rural poverty headcount ratio at national poverty lines (% of rural population)',\n",
       " 'Urban poverty headcount ratio at national poverty lines (% of urban population)',\n",
       " 'Net official flows from UN agencies, UNFPA (current US$)',\n",
       " 'Net official flows from UN agencies, IFAD (current US$)',\n",
       " 'Agriculture value added per worker (constant 2005 US$)',\n",
       " 'Immunization, DPT (% of children ages 12-23 months)',\n",
       " 'Labor force participation rate for ages 15-24, female (%) (national estimate)',\n",
       " 'Labor force participation rate for ages 15-24, male (%) (national estimate)',\n",
       " 'Labor force participation rate for ages 15-24, total (%) (national estimate)',\n",
       " 'Labor force participation rate, female (% of female population ages 15+) (national estimate)',\n",
       " 'Labor force participation rate, male (% of male population ages 15+) (national estimate)',\n",
       " 'Labor force participation rate, total (% of total population ages 15+) (national estimate)',\n",
       " 'Rail lines (total route-km)',\n",
       " 'Railways, goods transported (million ton-km)',\n",
       " 'Railways, passengers carried (million passenger-km)',\n",
       " 'Net bilateral aid flows from DAC donors, Spain (current US$)',\n",
       " 'Immunization, measles (% of children ages 12-23 months)',\n",
       " 'Newborns protected against tetanus (%)',\n",
       " 'Employment to population ratio, 15+, female (%) (national estimate)',\n",
       " 'Employment to population ratio, 15+, male (%) (national estimate)',\n",
       " 'Employment to population ratio, 15+, total (%) (national estimate)',\n",
       " 'Employment to population ratio, ages 15-24, female (%) (national estimate)',\n",
       " 'Employment to population ratio, ages 15-24, male (%) (national estimate)',\n",
       " 'Employment to population ratio, ages 15-24, total (%) (national estimate)',\n",
       " 'Unemployment, youth female (% of female labor force ages 15-24) (national estimate)',\n",
       " 'Unemployment, youth male (% of male labor force ages 15-24) (national estimate)',\n",
       " 'Unemployment, youth total (% of total labor force ages 15-24) (national estimate)',\n",
       " 'Export value index (2000 = 100)',\n",
       " 'Import value index (2000 = 100)',\n",
       " 'GDP per person employed (constant 1990 PPP $)',\n",
       " 'Export volume index (2000 = 100)',\n",
       " 'Import volume index (2000 = 100)',\n",
       " 'Net barter terms of trade index (2000 = 100)',\n",
       " 'Ratio of female to male labor force participation rate (%) (national estimate)',\n",
       " 'Unemployment, total (% of total labor force) (national estimate)',\n",
       " 'Contributing family workers, female (% of females employed)',\n",
       " 'Contributing family workers, male (% of males employed)',\n",
       " 'Contributing family workers, total (% of total employed)',\n",
       " 'Employment in agriculture (% of total employment)',\n",
       " 'Employment in agriculture, female (% of female employment)',\n",
       " 'Employment in agriculture, male (% of male employment)',\n",
       " 'Employment in industry (% of total employment)',\n",
       " 'Employment in industry, female (% of female employment)',\n",
       " 'Employment in industry, male (% of male employment)',\n",
       " 'Employment in services (% of total employment)',\n",
       " 'Employment in services, female (% of female employment)',\n",
       " 'Employment in services, male (% of male employment)',\n",
       " 'Long-term unemployment (% of total unemployment)',\n",
       " 'Long-term unemployment, female (% of female unemployment)',\n",
       " 'Long-term unemployment, male (% of male unemployment)',\n",
       " 'Self-employed, female (% of females employed)',\n",
       " 'Self-employed, male (% of males employed)',\n",
       " 'Self-employed, total (% of total employed)',\n",
       " 'Unemployment, female (% of female labor force) (national estimate)',\n",
       " 'Unemployment, male (% of male labor force) (national estimate)',\n",
       " 'Wage and salaried workers, female (% of females employed)',\n",
       " 'Wage and salaried workers, total (% of total employed)',\n",
       " 'Wage and salary workers, male (% of males employed)',\n",
       " 'Part time employment, female (% of total female employment)',\n",
       " 'Part time employment, female (% of total part time employment)',\n",
       " 'Part time employment, male (% of total male employment)',\n",
       " 'Part time employment, total (% of total employment)',\n",
       " 'Unemployment with primary education (% of total unemployment)',\n",
       " 'Unemployment with primary education, female (% of female unemployment)',\n",
       " 'Unemployment with primary education, male (% of male unemployment)',\n",
       " 'Unemployment with secondary education (% of total unemployment)',\n",
       " 'Unemployment with secondary education, female (% of female unemployment)',\n",
       " 'Unemployment with secondary education, male (% of male unemployment)',\n",
       " 'Unemployment with tertiary education (% of total unemployment)',\n",
       " 'Unemployment with tertiary education, female (% of female unemployment)',\n",
       " 'Unemployment with tertiary education, male (% of male unemployment)',\n",
       " 'Employers, total (% of employment)',\n",
       " 'Vulnerable employment, total (% of total employment)',\n",
       " 'Employers, female (% of employment)',\n",
       " 'Employers, male (% of employment)',\n",
       " 'Labor force with primary education (% of total)',\n",
       " 'Labor force with primary education, female (% of female labor force)',\n",
       " 'Labor force with primary education, male (% of male labor force)',\n",
       " 'Labor force with secondary education (% of total)',\n",
       " 'Labor force with secondary education, female (% of female labor force)',\n",
       " 'Labor force with secondary education, male (% of male labor force)',\n",
       " 'Labor force with tertiary education (% of total)',\n",
       " 'Labor force with tertiary education, female (% of female labor force)',\n",
       " 'Labor force with tertiary education, male (% of male labor force)',\n",
       " 'Vulnerable employment, female (% of female employment)',\n",
       " 'Vulnerable employment, male (% of male employment)',\n",
       " 'Scientific and technical journal articles',\n",
       " 'Poverty gap at $1.90 a day (2011 PPP) (%)',\n",
       " 'Poverty gap at $3.10 a day (2011 PPP) (%)',\n",
       " 'Poverty headcount ratio at $1.90 a day (2011 PPP) (% of population)',\n",
       " 'Poverty headcount ratio at $3.10 a day (2011 PPP) (% of population)',\n",
       " 'GINI index (World Bank estimate)',\n",
       " 'Income share held by fourth 20%',\n",
       " 'Income share held by highest 10%',\n",
       " 'Income share held by highest 20%',\n",
       " 'Income share held by lowest 10%',\n",
       " 'Income share held by lowest 20%',\n",
       " 'Income share held by second 20%',\n",
       " 'Income share held by third 20%',\n",
       " 'Government expenditure per tertiary student as % of GDP per capita (%)',\n",
       " 'Pregnant women receiving prenatal care (%)',\n",
       " 'Births attended by skilled health staff (% of total)',\n",
       " 'Armed forces personnel, total',\n",
       " 'Diarrhea treatment (% of children under 5 who received ORS packet)',\n",
       " 'Teenage mothers (% of women ages 15-19 who have had children or are currently pregnant)',\n",
       " 'Wanted fertility rate (births per woman)',\n",
       " 'Female legislators, senior officials and managers (% of total)',\n",
       " 'Exclusive breastfeeding (% of children under 6 months)',\n",
       " 'Military expenditure (% of GDP)',\n",
       " 'High-technology exports (% of manufactured exports)',\n",
       " 'Share of tariff lines with international peaks, all products (%)',\n",
       " 'Share of tariff lines with international peaks, manufactured products (%)',\n",
       " 'Share of tariff lines with international peaks, primary products (%)',\n",
       " 'Share of tariff lines with specific rates, all products (%)',\n",
       " 'Share of tariff lines with specific rates, manufactured products (%)',\n",
       " 'Share of tariff lines with specific rates, primary products (%)',\n",
       " 'Tariff rate, applied, simple mean, all products (%)',\n",
       " 'Tariff rate, applied, simple mean, manufactured products (%)',\n",
       " 'Tariff rate, applied, simple mean, primary products (%)',\n",
       " 'Tariff rate, applied, weighted mean, all products (%)',\n",
       " 'Tariff rate, applied, weighted mean, manufactured products (%)',\n",
       " 'Tariff rate, applied, weighted mean, primary products (%)',\n",
       " 'Tariff rate, most favored nation, simple mean, all products (%)',\n",
       " 'Tariff rate, most favored nation, simple mean, manufactured products (%)',\n",
       " 'Tariff rate, most favored nation, simple mean, primary products (%)',\n",
       " 'Tariff rate, most favored nation, weighted mean, all products (%)',\n",
       " 'Tariff rate, most favored nation, weighted mean, manufactured products (%)',\n",
       " 'Tariff rate, most favored nation, weighted mean, primary products (%)',\n",
       " 'High-technology exports (current US$)',\n",
       " 'Military expenditure (current LCU)',\n",
       " 'Debt buyback (current US$)',\n",
       " 'Debt forgiveness or reduction (current US$)',\n",
       " 'Debt stock reduction (current US$)',\n",
       " 'Debt stock rescheduled (current US$)',\n",
       " 'Interest forgiven (current US$)',\n",
       " 'Interest rescheduled (capitalized) (current US$)',\n",
       " 'Interest rescheduled, official (current US$)',\n",
       " 'Interest rescheduled, private (current US$)',\n",
       " 'Net change in interest arrears (current US$)',\n",
       " 'Principal forgiven (current US$)',\n",
       " 'Principal rescheduled (current US$)',\n",
       " 'Principal rescheduled, official (current US$)',\n",
       " 'Principal rescheduled, private (current US$)',\n",
       " 'Residual, debt stock-flow reconciliation (current US$)',\n",
       " 'Total amount of debt rescheduled (current US$)',\n",
       " 'Total change in external debt stocks (current US$)',\n",
       " 'Battle-related deaths (number of people)',\n",
       " 'Access to electricity (% of population)',\n",
       " 'Access to electricity, rural (% of rural population)',\n",
       " 'Access to electricity, urban (% of urban population)',\n",
       " 'Access to non-solid fuel (% of population)',\n",
       " 'Adjusted net savings, including particulate emission damage (% of GNI)',\n",
       " 'Adjusted savings: particulate emission damage (% of GNI)',\n",
       " 'Agricultural methane emissions (% of total)',\n",
       " 'Agricultural nitrous oxide emissions (% of total)',\n",
       " 'Armed forces personnel (% of total labor force)',\n",
       " 'CO2 emissions (kg per 2011 PPP $ of GDP)',\n",
       " 'CO2 emissions (kg per PPP $ of GDP)',\n",
       " 'Emigration rate of tertiary educated (% of total tertiary educated population)',\n",
       " 'Energy intensity level of primary energy (MJ/$2011 PPP GDP)',\n",
       " 'Energy related methane emissions (% of total)',\n",
       " 'Energy use (kg of oil equivalent) per $1,000 GDP (constant 2011 PPP)',\n",
       " 'Forest area (% of land area)',\n",
       " 'Forest area (sq. km)',\n",
       " 'GDP per capita, PPP (constant 2011 international $)',\n",
       " 'GDP per capita, PPP (current international $)',\n",
       " 'GDP per unit of energy use (constant 2011 PPP $ per kg of oil equivalent)',\n",
       " 'GDP per unit of energy use (PPP $ per kg of oil equivalent)',\n",
       " 'GDP, PPP (constant 2011 international $)',\n",
       " 'GDP, PPP (current international $)',\n",
       " 'GNI per capita, PPP (current international $)',\n",
       " 'GNI, PPP (current international $)',\n",
       " 'Household final consumption expenditure, PPP (current international $)',\n",
       " 'Improved sanitation facilities (% of population with access)',\n",
       " 'Improved sanitation facilities, rural (% of rural population with access)',\n",
       " 'Improved sanitation facilities, urban (% of urban population with access)',\n",
       " 'Improved water source (% of population with access)',\n",
       " 'Improved water source, rural (% of rural population with access)',\n",
       " 'Improved water source, urban (% of urban population with access)',\n",
       " 'Labor force participation rate for ages 15-24, female (%) (modeled ILO estimate)',\n",
       " 'Labor force participation rate for ages 15-24, male (%) (modeled ILO estimate)',\n",
       " 'Labor force participation rate for ages 15-24, total (%) (modeled ILO estimate)',\n",
       " 'Labor force participation rate, female (% of female population ages 15+) (modeled ILO estimate)',\n",
       " 'Labor force participation rate, female (% of female population ages 15-64) (modeled ILO estimate)',\n",
       " 'Labor force participation rate, male (% of male population ages 15+) (modeled ILO estimate)',\n",
       " 'Labor force participation rate, male (% of male population ages 15-64) (modeled ILO estimate)',\n",
       " 'Labor force participation rate, total (% of total population ages 15+) (modeled ILO estimate)',\n",
       " 'Labor force participation rate, total (% of total population ages 15-64) (modeled ILO estimate)',\n",
       " 'Labor force, female (% of total labor force)',\n",
       " 'Labor force, total',\n",
       " 'Land area where elevation is below 5 meters (% of total land area)',\n",
       " 'Lifetime risk of maternal death (%)',\n",
       " 'Lifetime risk of maternal death (1 in: rate varies by country)',\n",
       " 'Marine protected areas (% of territorial waters)',\n",
       " 'Maternal mortality ratio (modeled estimate, per 100,000 live births)',\n",
       " 'Methane emissions (kt of CO2 equivalent)',\n",
       " 'Methane emissions in energy sector (thousand metric tons of CO2 equivalent)',\n",
       " 'Mortality rate, infant, female (per 1,000 live births)',\n",
       " 'Mortality rate, infant, male (per 1,000 live births)',\n",
       " 'Mortality rate, neonatal (per 1,000 live births)',\n",
       " 'Mortality rate, under-5, female (per 1,000 live births)',\n",
       " 'Mortality rate, under-5, male (per 1,000 live births)',\n",
       " 'Net bilateral aid flows from DAC donors, Luxembourg (current US$)',\n",
       " 'Nitrous oxide emissions (thousand metric tons of CO2 equivalent)',\n",
       " 'Nitrous oxide emissions in energy sector (thousand metric tons of CO2 equivalent)',\n",
       " 'Nitrous oxide emissions in industrial and energy processes (% of total nitrous oxide emissions)',\n",
       " 'Number of maternal deaths',\n",
       " 'Other greenhouse gas emissions, HFC, PFC and SF6 (thousand metric tons of CO2 equivalent)',\n",
       " 'PM2.5 air pollution, mean annual exposure (micrograms per cubic meter)',\n",
       " 'PM2.5 air pollution, population exposed to levels exceeding WHO guideline value (% of total)',\n",
       " 'Population living in areas where elevation is below 5 meters (% of total population)',\n",
       " 'Prevalence of anemia among children (% of children under 5)',\n",
       " 'Prevalence of anemia among non-pregnant women (% of women ages 15-49)',\n",
       " 'Prevalence of anemia among pregnant women (%)',\n",
       " 'Prevalence of HIV, female (% ages 15-24)',\n",
       " 'Prevalence of HIV, male (% ages 15-24)',\n",
       " 'Prevalence of HIV, total (% of population ages 15-49)',\n",
       " 'Proportion of seats held by women in national parliaments (%)',\n",
       " 'Ratio of female to male labor force participation rate (%) (modeled ILO estimate)',\n",
       " 'Refugee population by country or territory of asylum',\n",
       " 'Refugee population by country or territory of origin',\n",
       " 'Renewable electricity output (% of total electricity output)',\n",
       " 'Renewable energy consumption (% of total final energy consumption)',\n",
       " 'SF6 gas emissions (thousand metric tons of CO2 equivalent)',\n",
       " 'Terrestrial and marine protected areas (% of total territorial area)',\n",
       " 'Terrestrial protected areas (% of total land area)',\n",
       " \"Women's share of population ages 15+ living with HIV (%)\",\n",
       " 'Completeness of death registration with cause-of-death information (%)',\n",
       " 'Share of women in wage employment in the nonagricultural sector (% of total nonagricultural employment)',\n",
       " 'HFC gas emissions (thousand metric tons of CO2 equivalent)',\n",
       " 'Household final consumption expenditure, PPP (constant 2011 international $)',\n",
       " 'Net official aid received (constant 2012 US$)',\n",
       " 'Net official aid received (current US$)',\n",
       " 'PFC gas emissions (thousand metric tons of CO2 equivalent)',\n",
       " 'GNI per capita, PPP (constant 2011 international $)',\n",
       " 'GNI, PPP (constant 2011 international $)',\n",
       " 'Incidence of tuberculosis (per 100,000 people)',\n",
       " 'Tuberculosis case detection rate (%, all forms)',\n",
       " 'Unmet need for contraception (% of married women ages 15-49)',\n",
       " 'Community health workers (per 1,000 people)',\n",
       " 'Investment in transport with private participation (current US$)',\n",
       " 'Number of neonatal deaths',\n",
       " 'Nurses and midwives (per 1,000 people)',\n",
       " 'Cash surplus/deficit (% of GDP)',\n",
       " 'Expense (% of GDP)',\n",
       " 'Military expenditure (% of central government expenditure)',\n",
       " 'Revenue, excluding grants (% of GDP)',\n",
       " 'Tax revenue (% of GDP)',\n",
       " 'Grants and other revenue (% of revenue)',\n",
       " 'Other taxes (% of revenue)',\n",
       " 'Taxes on goods and services (% of revenue)',\n",
       " 'Taxes on income, profits and capital gains (% of revenue)',\n",
       " 'Taxes on international trade (% of revenue)',\n",
       " 'Interest payments (% of revenue)',\n",
       " 'Central government debt, total (% of GDP)',\n",
       " 'Interest payments (% of expense)',\n",
       " 'Net incurrence of liabilities, domestic (% of GDP)',\n",
       " 'Net incurrence of liabilities, foreign (% of GDP)',\n",
       " 'Children (0-14) living with HIV',\n",
       " 'Adjusted net savings, including particulate emission damage (current US$)',\n",
       " 'Adjusted savings: particulate emission damage (current US$)',\n",
       " 'Agricultural methane emissions (thousand metric tons of CO2 equivalent)',\n",
       " 'Agricultural nitrous oxide emissions (thousand metric tons of CO2 equivalent)',\n",
       " 'Industrial nitrous oxide emissions (thousand metric tons of CO2 equivalent)',\n",
       " 'PPP conversion factor, GDP (LCU per international $)',\n",
       " 'Price level ratio of PPP conversion factor (GDP) to market exchange rate',\n",
       " 'PPP conversion factor, private consumption (LCU per international $)',\n",
       " 'GHG net emissions/removals by LUCF (Mt of CO2 equivalent)',\n",
       " 'Investment in telecoms with private participation (current US$)',\n",
       " 'S&P Global Equity Indices (annual % change)',\n",
       " 'Cash surplus/deficit (current LCU)',\n",
       " 'Central government debt, total (current LCU)',\n",
       " 'Compensation of employees (% of expense)',\n",
       " 'Compensation of employees (current LCU)',\n",
       " 'Customs and other import duties (% of tax revenue)',\n",
       " 'Customs and other import duties (current LCU)',\n",
       " 'Expense (current LCU)',\n",
       " 'Goods and services expense (% of expense)',\n",
       " 'Goods and services expense (current LCU)',\n",
       " 'Grants and other revenue (current LCU)',\n",
       " 'Interest payments (current LCU)',\n",
       " 'Net incurrence of liabilities, domestic (current LCU)',\n",
       " 'Net incurrence of liabilities, foreign (current LCU)',\n",
       " 'Net ODA received (% of central government expense)',\n",
       " 'Other expense (% of expense)',\n",
       " 'Other expense (current LCU)',\n",
       " 'Other taxes (current LCU)',\n",
       " 'Revenue, excluding grants (current LCU)',\n",
       " 'Subsidies and other transfers (% of expense)',\n",
       " 'Subsidies and other transfers (current LCU)',\n",
       " 'Tax revenue (current LCU)',\n",
       " 'Taxes on exports (% of tax revenue)',\n",
       " 'Taxes on exports (current LCU)',\n",
       " 'Taxes on goods and services (% value added of industry and services)',\n",
       " 'Taxes on goods and services (current LCU)',\n",
       " 'Taxes on international trade (current LCU)',\n",
       " 'Taxes on income, profits and capital gains (% of total taxes)',\n",
       " 'Taxes on income, profits and capital gains (current LCU)',\n",
       " 'Social contributions (% of revenue)',\n",
       " 'Social contributions (current LCU)',\n",
       " 'Investment in energy with private participation (current US$)',\n",
       " 'ARI treatment (% of children under 5 taken to a health provider)',\n",
       " 'Diarrhea treatment (% of children under 5 receiving oral rehydration and continued feeding)',\n",
       " 'Female headed households (% of households with a female head)',\n",
       " 'Low-birthweight babies (% of births)',\n",
       " 'Employment to population ratio, 15+, female (%) (modeled ILO estimate)',\n",
       " 'Employment to population ratio, 15+, male (%) (modeled ILO estimate)',\n",
       " 'Employment to population ratio, 15+, total (%) (modeled ILO estimate)',\n",
       " 'Employment to population ratio, ages 15-24, female (%) (modeled ILO estimate)',\n",
       " 'Employment to population ratio, ages 15-24, male (%) (modeled ILO estimate)',\n",
       " 'Employment to population ratio, ages 15-24, total (%) (modeled ILO estimate)',\n",
       " 'Prevalence of undernourishment (% of population)',\n",
       " 'Unemployment, female (% of female labor force)',\n",
       " 'Unemployment, male (% of male labor force)',\n",
       " 'Unemployment, total (% of total labor force)',\n",
       " ...]"
      ]
     },
     "execution_count": 81,
     "metadata": {},
     "output_type": "execute_result"
    }
   ],
   "source": [
    "r"
   ]
  },
  {
   "cell_type": "code",
   "execution_count": 82,
   "metadata": {},
   "outputs": [
    {
     "data": {
      "text/plain": [
       "1344"
      ]
     },
     "execution_count": 82,
     "metadata": {},
     "output_type": "execute_result"
    }
   ],
   "source": [
    "len(r)"
   ]
  },
  {
   "cell_type": "code",
   "execution_count": 83,
   "metadata": {},
   "outputs": [
    {
     "data": {
      "text/plain": [
       "2010    187206\n",
       "2005    180506\n",
       "2007    180354\n",
       "2008    179825\n",
       "2009    178578\n",
       "2006    177119\n",
       "2011    176063\n",
       "2012    175147\n",
       "2004    158011\n",
       "2013    156876\n",
       "2002    154958\n",
       "2000    154728\n",
       "2003    153468\n",
       "2001    150456\n",
       "1999    142408\n",
       "1998    137381\n",
       "1997    136377\n",
       "1996    135125\n",
       "1995    134616\n",
       "1994    125905\n",
       "1993    123699\n",
       "1992    121627\n",
       "1990    117634\n",
       "1991    115838\n",
       "2014    107389\n",
       "1989     92738\n",
       "1988     89441\n",
       "1987     89397\n",
       "1986     87972\n",
       "1985     87486\n",
       "1984     85973\n",
       "1983     85282\n",
       "1982     85169\n",
       "1981     84374\n",
       "1980     81456\n",
       "1979     75904\n",
       "1977     75747\n",
       "1978     75628\n",
       "1976     73430\n",
       "1975     72550\n",
       "1974     70105\n",
       "1972     69901\n",
       "1973     69373\n",
       "1971     68277\n",
       "1970     62540\n",
       "1969     33007\n",
       "1967     32737\n",
       "1968     32546\n",
       "1965     32035\n",
       "1966     31337\n",
       "1964     29128\n",
       "1963     28625\n",
       "1962     28439\n",
       "1961     26617\n",
       "1960     23188\n",
       "2015     14762\n",
       "Name: Year, dtype: int64"
      ]
     },
     "execution_count": 83,
     "metadata": {},
     "output_type": "execute_result"
    }
   ],
   "source": [
    "#Switching to years\n",
    "df['Year'].value_counts()"
   ]
  },
  {
   "cell_type": "code",
   "execution_count": 84,
   "metadata": {},
   "outputs": [
    {
     "data": {
      "text/plain": [
       "56"
      ]
     },
     "execution_count": 84,
     "metadata": {},
     "output_type": "execute_result"
    }
   ],
   "source": [
    "df['Year'].unique().size"
   ]
  },
  {
   "cell_type": "code",
   "execution_count": 86,
   "metadata": {},
   "outputs": [
    {
     "name": "stdout",
     "output_type": "stream",
     "text": [
      "2015 to  1960\n"
     ]
    }
   ],
   "source": [
    "print(df['Year'].max() ,'to ', df['Year'].min())"
   ]
  },
  {
   "cell_type": "code",
   "execution_count": 91,
   "metadata": {},
   "outputs": [
    {
     "data": {
      "text/plain": [
       "[<matplotlib.lines.Line2D at 0x1c6203e3d08>]"
      ]
     },
     "execution_count": 91,
     "metadata": {},
     "output_type": "execute_result"
    },
    {
     "data": {
      "image/png": "[encoded data removed]",
      "text/plain": [
       "<Figure size 432x288 with 1 Axes>"
      ]
     },
     "metadata": {
      "needs_background": "light"
     },
     "output_type": "display_data"
    }
   ],
   "source": [
    "#Let pic a Country and estimate its Co2 emission rate\n",
    "\n",
    "c = df['CountryCode'].str.contains('USA')\n",
    "i = df['IndicatorName'].str.contains('CO2 emissions \\(metric')\n",
    "\n",
    "plt.plot(c,i)\n",
    "plt.xlabel(Coutn)"
   ]
  },
  {
   "cell_type": "code",
   "execution_count": 92,
   "metadata": {},
   "outputs": [],
   "source": [
    "s = df[c & i]"
   ]
  },
  {
   "cell_type": "code",
   "execution_count": 93,
   "metadata": {},
   "outputs": [
    {
     "data": {
      "text/plain": [
       "(52, 6)"
      ]
     },
     "execution_count": 93,
     "metadata": {},
     "output_type": "execute_result"
    }
   ],
   "source": [
    "s.shape"
   ]
  },
  {
   "cell_type": "code",
   "execution_count": 94,
   "metadata": {},
   "outputs": [
    {
     "data": {
      "text/html": [
       "<div>\n",
       "<style scoped>\n",
       "    .dataframe tbody tr th:only-of-type {\n",
       "        vertical-align: middle;\n",
       "    }\n",
       "\n",
       "    .dataframe tbody tr th {\n",
       "        vertical-align: top;\n",
       "    }\n",
       "\n",
       "    .dataframe thead th {\n",
       "        text-align: right;\n",
       "    }\n",
       "</style>\n",
       "<table border=\"1\" class=\"dataframe\">\n",
       "  <thead>\n",
       "    <tr style=\"text-align: right;\">\n",
       "      <th></th>\n",
       "      <th>CountryName</th>\n",
       "      <th>CountryCode</th>\n",
       "      <th>IndicatorName</th>\n",
       "      <th>IndicatorCode</th>\n",
       "      <th>Year</th>\n",
       "      <th>Value</th>\n",
       "    </tr>\n",
       "  </thead>\n",
       "  <tbody>\n",
       "    <tr>\n",
       "      <td>22232</td>\n",
       "      <td>United States</td>\n",
       "      <td>USA</td>\n",
       "      <td>CO2 emissions (metric tons per capita)</td>\n",
       "      <td>EN.ATM.CO2E.PC</td>\n",
       "      <td>1960</td>\n",
       "      <td>15.999779</td>\n",
       "    </tr>\n",
       "    <tr>\n",
       "      <td>48708</td>\n",
       "      <td>United States</td>\n",
       "      <td>USA</td>\n",
       "      <td>CO2 emissions (metric tons per capita)</td>\n",
       "      <td>EN.ATM.CO2E.PC</td>\n",
       "      <td>1961</td>\n",
       "      <td>15.681256</td>\n",
       "    </tr>\n",
       "    <tr>\n",
       "      <td>77087</td>\n",
       "      <td>United States</td>\n",
       "      <td>USA</td>\n",
       "      <td>CO2 emissions (metric tons per capita)</td>\n",
       "      <td>EN.ATM.CO2E.PC</td>\n",
       "      <td>1962</td>\n",
       "      <td>16.013937</td>\n",
       "    </tr>\n",
       "    <tr>\n",
       "      <td>105704</td>\n",
       "      <td>United States</td>\n",
       "      <td>USA</td>\n",
       "      <td>CO2 emissions (metric tons per capita)</td>\n",
       "      <td>EN.ATM.CO2E.PC</td>\n",
       "      <td>1963</td>\n",
       "      <td>16.482762</td>\n",
       "    </tr>\n",
       "    <tr>\n",
       "      <td>134742</td>\n",
       "      <td>United States</td>\n",
       "      <td>USA</td>\n",
       "      <td>CO2 emissions (metric tons per capita)</td>\n",
       "      <td>EN.ATM.CO2E.PC</td>\n",
       "      <td>1964</td>\n",
       "      <td>16.968119</td>\n",
       "    </tr>\n",
       "  </tbody>\n",
       "</table>\n",
       "</div>"
      ],
      "text/plain": [
       "          CountryName CountryCode                           IndicatorName  \\\n",
       "22232   United States         USA  CO2 emissions (metric tons per capita)   \n",
       "48708   United States         USA  CO2 emissions (metric tons per capita)   \n",
       "77087   United States         USA  CO2 emissions (metric tons per capita)   \n",
       "105704  United States         USA  CO2 emissions (metric tons per capita)   \n",
       "134742  United States         USA  CO2 emissions (metric tons per capita)   \n",
       "\n",
       "         IndicatorCode  Year      Value  \n",
       "22232   EN.ATM.CO2E.PC  1960  15.999779  \n",
       "48708   EN.ATM.CO2E.PC  1961  15.681256  \n",
       "77087   EN.ATM.CO2E.PC  1962  16.013937  \n",
       "105704  EN.ATM.CO2E.PC  1963  16.482762  \n",
       "134742  EN.ATM.CO2E.PC  1964  16.968119  "
      ]
     },
     "execution_count": 94,
     "metadata": {},
     "output_type": "execute_result"
    }
   ],
   "source": [
    "s.head()"
   ]
  },
  {
   "cell_type": "code",
   "execution_count": 101,
   "metadata": {
    "scrolled": true
   },
   "outputs": [
    {
     "data": {
      "image/png": "[encoded data removed]",
      "text/plain": [
       "<Figure size 432x288 with 1 Axes>"
      ]
     },
     "metadata": {
      "needs_background": "light"
     },
     "output_type": "display_data"
    }
   ],
   "source": [
    "x = s[\"Year\"].values\n",
    "y = s[\"Value\"].values\n",
    "\n",
    "plt.bar(x,y)\n",
    "plt.xlabel(\"Year\")\n",
    "\n",
    "plt.ylabel('Values')\n",
    "plt.title('Co2 emission by USA in different Years')\n",
    "plt.show()"
   ]
  },
  {
   "cell_type": "code",
   "execution_count": 105,
   "metadata": {},
   "outputs": [
    {
     "data": {
      "text/plain": [
       "[<matplotlib.lines.Line2D at 0x1c6248a83c8>]"
      ]
     },
     "execution_count": 105,
     "metadata": {},
     "output_type": "execute_result"
    },
    {
     "data": {
      "image/png": "[encoded data removed]",
      "text/plain": [
       "<Figure size 432x288 with 1 Axes>"
      ]
     },
     "metadata": {
      "needs_background": "light"
     },
     "output_type": "display_data"
    }
   ],
   "source": [
    "plt.plot(x,y)"
   ]
  },
  {
   "cell_type": "code",
   "execution_count": 104,
   "metadata": {},
   "outputs": [
    {
     "data": {
      "image/png": "[encoded data removed]",
      "text/plain": [
       "<Figure size 432x288 with 1 Axes>"
      ]
     },
     "metadata": {
      "needs_background": "light"
     },
     "output_type": "display_data"
    }
   ],
   "source": [
    "plt.plot(x,y)\n",
    "\n",
    "plt.axis([1959, 2011,0,25])\n",
    "plt.show()"
   ]
  },
  {
   "cell_type": "code",
   "execution_count": 106,
   "metadata": {},
   "outputs": [],
   "source": [
    "hist_data = s['Value'].values"
   ]
  },
  {
   "cell_type": "code",
   "execution_count": 108,
   "metadata": {},
   "outputs": [
    {
     "name": "stderr",
     "output_type": "stream",
     "text": [
      "F:\\Anaconda3\\lib\\site-packages\\ipykernel_launcher.py:1: MatplotlibDeprecationWarning: \n",
      "The 'normed' kwarg was deprecated in Matplotlib 2.1 and will be removed in 3.1. Use 'density' instead.\n",
      "  \"\"\"Entry point for launching an IPython kernel.\n"
     ]
    },
    {
     "data": {
      "image/png": "[encoded data removed]",
      "text/plain": [
       "<Figure size 432x288 with 1 Axes>"
      ]
     },
     "metadata": {
      "needs_background": "light"
     },
     "output_type": "display_data"
    }
   ],
   "source": [
    "plt.hist(hist_data, 10, normed=False, facecolor='green')\n",
    "\n",
    "plt.grid(True)"
   ]
  },
  {
   "cell_type": "code",
   "execution_count": 109,
   "metadata": {},
   "outputs": [
    {
     "data": {
      "text/html": [
       "<div>\n",
       "<style scoped>\n",
       "    .dataframe tbody tr th:only-of-type {\n",
       "        vertical-align: middle;\n",
       "    }\n",
       "\n",
       "    .dataframe tbody tr th {\n",
       "        vertical-align: top;\n",
       "    }\n",
       "\n",
       "    .dataframe thead th {\n",
       "        text-align: right;\n",
       "    }\n",
       "</style>\n",
       "<table border=\"1\" class=\"dataframe\">\n",
       "  <thead>\n",
       "    <tr style=\"text-align: right;\">\n",
       "      <th></th>\n",
       "      <th>CountryName</th>\n",
       "      <th>CountryCode</th>\n",
       "      <th>IndicatorName</th>\n",
       "      <th>IndicatorCode</th>\n",
       "      <th>Year</th>\n",
       "      <th>Value</th>\n",
       "    </tr>\n",
       "  </thead>\n",
       "  <tbody>\n",
       "    <tr>\n",
       "      <td>0</td>\n",
       "      <td>Arab World</td>\n",
       "      <td>ARB</td>\n",
       "      <td>Adolescent fertility rate (births per 1,000 wo...</td>\n",
       "      <td>SP.ADO.TFRT</td>\n",
       "      <td>1960</td>\n",
       "      <td>1.335609e+02</td>\n",
       "    </tr>\n",
       "    <tr>\n",
       "      <td>1</td>\n",
       "      <td>Arab World</td>\n",
       "      <td>ARB</td>\n",
       "      <td>Age dependency ratio (% of working-age populat...</td>\n",
       "      <td>SP.POP.DPND</td>\n",
       "      <td>1960</td>\n",
       "      <td>8.779760e+01</td>\n",
       "    </tr>\n",
       "    <tr>\n",
       "      <td>2</td>\n",
       "      <td>Arab World</td>\n",
       "      <td>ARB</td>\n",
       "      <td>Age dependency ratio, old (% of working-age po...</td>\n",
       "      <td>SP.POP.DPND.OL</td>\n",
       "      <td>1960</td>\n",
       "      <td>6.634579e+00</td>\n",
       "    </tr>\n",
       "    <tr>\n",
       "      <td>3</td>\n",
       "      <td>Arab World</td>\n",
       "      <td>ARB</td>\n",
       "      <td>Age dependency ratio, young (% of working-age ...</td>\n",
       "      <td>SP.POP.DPND.YG</td>\n",
       "      <td>1960</td>\n",
       "      <td>8.102333e+01</td>\n",
       "    </tr>\n",
       "    <tr>\n",
       "      <td>4</td>\n",
       "      <td>Arab World</td>\n",
       "      <td>ARB</td>\n",
       "      <td>Arms exports (SIPRI trend indicator values)</td>\n",
       "      <td>MS.MIL.XPRT.KD</td>\n",
       "      <td>1960</td>\n",
       "      <td>3.000000e+06</td>\n",
       "    </tr>\n",
       "  </tbody>\n",
       "</table>\n",
       "</div>"
      ],
      "text/plain": [
       "  CountryName CountryCode                                      IndicatorName  \\\n",
       "0  Arab World         ARB  Adolescent fertility rate (births per 1,000 wo...   \n",
       "1  Arab World         ARB  Age dependency ratio (% of working-age populat...   \n",
       "2  Arab World         ARB  Age dependency ratio, old (% of working-age po...   \n",
       "3  Arab World         ARB  Age dependency ratio, young (% of working-age ...   \n",
       "4  Arab World         ARB        Arms exports (SIPRI trend indicator values)   \n",
       "\n",
       "    IndicatorCode  Year         Value  \n",
       "0     SP.ADO.TFRT  1960  1.335609e+02  \n",
       "1     SP.POP.DPND  1960  8.779760e+01  \n",
       "2  SP.POP.DPND.OL  1960  6.634579e+00  \n",
       "3  SP.POP.DPND.YG  1960  8.102333e+01  \n",
       "4  MS.MIL.XPRT.KD  1960  3.000000e+06  "
      ]
     },
     "execution_count": 109,
     "metadata": {},
     "output_type": "execute_result"
    }
   ],
   "source": [
    "df.head()"
   ]
  },
  {
   "cell_type": "code",
   "execution_count": 112,
   "metadata": {},
   "outputs": [
    {
     "data": {
      "text/plain": [
       "5656458"
      ]
     },
     "execution_count": 112,
     "metadata": {},
     "output_type": "execute_result"
    }
   ],
   "source": [
    "df['IndicatorName'].str.contains('GDP').count()"
   ]
  },
  {
   "cell_type": "code",
   "execution_count": 115,
   "metadata": {},
   "outputs": [
    {
     "data": {
      "text/html": [
       "<div>\n",
       "<style scoped>\n",
       "    .dataframe tbody tr th:only-of-type {\n",
       "        vertical-align: middle;\n",
       "    }\n",
       "\n",
       "    .dataframe tbody tr th {\n",
       "        vertical-align: top;\n",
       "    }\n",
       "\n",
       "    .dataframe thead th {\n",
       "        text-align: right;\n",
       "    }\n",
       "</style>\n",
       "<table border=\"1\" class=\"dataframe\">\n",
       "  <thead>\n",
       "    <tr style=\"text-align: right;\">\n",
       "      <th></th>\n",
       "      <th>CountryName</th>\n",
       "      <th>CountryCode</th>\n",
       "      <th>IndicatorName</th>\n",
       "      <th>IndicatorCode</th>\n",
       "      <th>Year</th>\n",
       "      <th>Value</th>\n",
       "    </tr>\n",
       "  </thead>\n",
       "  <tbody>\n",
       "    <tr>\n",
       "      <td>22282</td>\n",
       "      <td>United States</td>\n",
       "      <td>USA</td>\n",
       "      <td>GDP per capita (constant 2005 US$)</td>\n",
       "      <td>NY.GDP.PCAP.KD</td>\n",
       "      <td>1960</td>\n",
       "      <td>15482.707760</td>\n",
       "    </tr>\n",
       "    <tr>\n",
       "      <td>48759</td>\n",
       "      <td>United States</td>\n",
       "      <td>USA</td>\n",
       "      <td>GDP per capita (constant 2005 US$)</td>\n",
       "      <td>NY.GDP.PCAP.KD</td>\n",
       "      <td>1961</td>\n",
       "      <td>15578.409657</td>\n",
       "    </tr>\n",
       "    <tr>\n",
       "      <td>77142</td>\n",
       "      <td>United States</td>\n",
       "      <td>USA</td>\n",
       "      <td>GDP per capita (constant 2005 US$)</td>\n",
       "      <td>NY.GDP.PCAP.KD</td>\n",
       "      <td>1962</td>\n",
       "      <td>16276.426685</td>\n",
       "    </tr>\n",
       "    <tr>\n",
       "      <td>105760</td>\n",
       "      <td>United States</td>\n",
       "      <td>USA</td>\n",
       "      <td>GDP per capita (constant 2005 US$)</td>\n",
       "      <td>NY.GDP.PCAP.KD</td>\n",
       "      <td>1963</td>\n",
       "      <td>16749.789436</td>\n",
       "    </tr>\n",
       "    <tr>\n",
       "      <td>134798</td>\n",
       "      <td>United States</td>\n",
       "      <td>USA</td>\n",
       "      <td>GDP per capita (constant 2005 US$)</td>\n",
       "      <td>NY.GDP.PCAP.KD</td>\n",
       "      <td>1964</td>\n",
       "      <td>17476.822248</td>\n",
       "    </tr>\n",
       "  </tbody>\n",
       "</table>\n",
       "</div>"
      ],
      "text/plain": [
       "          CountryName CountryCode                       IndicatorName  \\\n",
       "22282   United States         USA  GDP per capita (constant 2005 US$)   \n",
       "48759   United States         USA  GDP per capita (constant 2005 US$)   \n",
       "77142   United States         USA  GDP per capita (constant 2005 US$)   \n",
       "105760  United States         USA  GDP per capita (constant 2005 US$)   \n",
       "134798  United States         USA  GDP per capita (constant 2005 US$)   \n",
       "\n",
       "         IndicatorCode  Year         Value  \n",
       "22282   NY.GDP.PCAP.KD  1960  15482.707760  \n",
       "48759   NY.GDP.PCAP.KD  1961  15578.409657  \n",
       "77142   NY.GDP.PCAP.KD  1962  16276.426685  \n",
       "105760  NY.GDP.PCAP.KD  1963  16749.789436  \n",
       "134798  NY.GDP.PCAP.KD  1964  17476.822248  "
      ]
     },
     "execution_count": 115,
     "metadata": {},
     "output_type": "execute_result"
    }
   ],
   "source": [
    "g = 'GDP per capita \\(constant 2005'\n",
    "c = 'USA'\n",
    "\n",
    "u = df['IndicatorName'].str.contains(g)\n",
    "i = df['CountryCode'].str.contains(c)\n",
    "\n",
    "h = df[u & i]\n",
    "h.head()"
   ]
  },
  {
   "cell_type": "code",
   "execution_count": 118,
   "metadata": {},
   "outputs": [
    {
     "data": {
      "text/plain": [
       "<BarContainer object of 55 artists>"
      ]
     },
     "execution_count": 118,
     "metadata": {},
     "output_type": "execute_result"
    },
    {
     "data": {
      "image/png": "[encoded data removed]",
      "text/plain": [
       "<Figure size 432x288 with 1 Axes>"
      ]
     },
     "metadata": {
      "needs_background": "light"
     },
     "output_type": "display_data"
    }
   ],
   "source": [
    "y = h['Year'].values\n",
    "v = h['Value'].values\n",
    "\n",
    "plt.bar(y,v)"
   ]
  },
  {
   "cell_type": "code",
   "execution_count": 122,
   "metadata": {},
   "outputs": [
    {
     "data": {
      "text/plain": [
       "[1959, 2011, 0, 50000]"
      ]
     },
     "execution_count": 122,
     "metadata": {},
     "output_type": "execute_result"
    },
    {
     "data": {
      "image/png": "[encoded data removed]",
      "text/plain": [
       "<Figure size 432x288 with 1 Axes>"
      ]
     },
     "metadata": {
      "needs_background": "light"
     },
     "output_type": "display_data"
    }
   ],
   "source": [
    "\n",
    "plt.xlabel('Year')\n",
    "plt.ylabel('GDP Growth')\n",
    "plt.title('GDP Growth in USA over the year')\n",
    "plt.plot(y,v)\n",
    "plt.axis([1959,2011,0,50000])"
   ]
  },
  {
   "cell_type": "code",
   "execution_count": 124,
   "metadata": {},
   "outputs": [
    {
     "data": {
      "text/plain": [
       "<matplotlib.collections.PathCollection at 0x1c621a92688>"
      ]
     },
     "execution_count": 124,
     "metadata": {},
     "output_type": "execute_result"
    },
    {
     "data": {
      "image/png": "[encoded data removed]",
      "text/plain": [
       "<Figure size 432x288 with 1 Axes>"
      ]
     },
     "metadata": {
      "needs_background": "light"
     },
     "output_type": "display_data"
    }
   ],
   "source": [
    "plt.scatter(y,v)"
   ]
  },
  {
   "cell_type": "code",
   "execution_count": 125,
   "metadata": {},
   "outputs": [
    {
     "ename": "ValueError",
     "evalue": "x and y must be the same size",
     "output_type": "error",
     "traceback": [
      "\u001b[1;31m---------------------------------------------------------------------------\u001b[0m",
      "\u001b[1;31mValueError\u001b[0m                                Traceback (most recent call last)",
      "\u001b[1;32m<ipython-input-125-964dc56e0d0d>\u001b[0m in \u001b[0;36m<module>\u001b[1;34m\u001b[0m\n\u001b[1;32m----> 1\u001b[1;33m \u001b[0mplt\u001b[0m\u001b[1;33m.\u001b[0m\u001b[0mscatter\u001b[0m\u001b[1;33m(\u001b[0m\u001b[0mx\u001b[0m\u001b[1;33m,\u001b[0m\u001b[0my\u001b[0m\u001b[1;33m)\u001b[0m\u001b[1;33m\u001b[0m\u001b[1;33m\u001b[0m\u001b[0m\n\u001b[0m",
      "\u001b[1;32mF:\\Anaconda3\\lib\\site-packages\\matplotlib\\pyplot.py\u001b[0m in \u001b[0;36mscatter\u001b[1;34m(x, y, s, c, marker, cmap, norm, vmin, vmax, alpha, linewidths, verts, edgecolors, plotnonfinite, data, **kwargs)\u001b[0m\n\u001b[0;32m   2845\u001b[0m         \u001b[0mverts\u001b[0m\u001b[1;33m=\u001b[0m\u001b[0mverts\u001b[0m\u001b[1;33m,\u001b[0m \u001b[0medgecolors\u001b[0m\u001b[1;33m=\u001b[0m\u001b[0medgecolors\u001b[0m\u001b[1;33m,\u001b[0m\u001b[1;33m\u001b[0m\u001b[1;33m\u001b[0m\u001b[0m\n\u001b[0;32m   2846\u001b[0m         plotnonfinite=plotnonfinite, **({\"data\": data} if data is not\n\u001b[1;32m-> 2847\u001b[1;33m         None else {}), **kwargs)\n\u001b[0m\u001b[0;32m   2848\u001b[0m     \u001b[0msci\u001b[0m\u001b[1;33m(\u001b[0m\u001b[0m__ret\u001b[0m\u001b[1;33m)\u001b[0m\u001b[1;33m\u001b[0m\u001b[1;33m\u001b[0m\u001b[0m\n\u001b[0;32m   2849\u001b[0m     \u001b[1;32mreturn\u001b[0m \u001b[0m__ret\u001b[0m\u001b[1;33m\u001b[0m\u001b[1;33m\u001b[0m\u001b[0m\n",
      "\u001b[1;32mF:\\Anaconda3\\lib\\site-packages\\matplotlib\\__init__.py\u001b[0m in \u001b[0;36minner\u001b[1;34m(ax, data, *args, **kwargs)\u001b[0m\n\u001b[0;32m   1599\u001b[0m     \u001b[1;32mdef\u001b[0m \u001b[0minner\u001b[0m\u001b[1;33m(\u001b[0m\u001b[0max\u001b[0m\u001b[1;33m,\u001b[0m \u001b[1;33m*\u001b[0m\u001b[0margs\u001b[0m\u001b[1;33m,\u001b[0m \u001b[0mdata\u001b[0m\u001b[1;33m=\u001b[0m\u001b[1;32mNone\u001b[0m\u001b[1;33m,\u001b[0m \u001b[1;33m**\u001b[0m\u001b[0mkwargs\u001b[0m\u001b[1;33m)\u001b[0m\u001b[1;33m:\u001b[0m\u001b[1;33m\u001b[0m\u001b[1;33m\u001b[0m\u001b[0m\n\u001b[0;32m   1600\u001b[0m         \u001b[1;32mif\u001b[0m \u001b[0mdata\u001b[0m \u001b[1;32mis\u001b[0m \u001b[1;32mNone\u001b[0m\u001b[1;33m:\u001b[0m\u001b[1;33m\u001b[0m\u001b[1;33m\u001b[0m\u001b[0m\n\u001b[1;32m-> 1601\u001b[1;33m             \u001b[1;32mreturn\u001b[0m \u001b[0mfunc\u001b[0m\u001b[1;33m(\u001b[0m\u001b[0max\u001b[0m\u001b[1;33m,\u001b[0m \u001b[1;33m*\u001b[0m\u001b[0mmap\u001b[0m\u001b[1;33m(\u001b[0m\u001b[0msanitize_sequence\u001b[0m\u001b[1;33m,\u001b[0m \u001b[0margs\u001b[0m\u001b[1;33m)\u001b[0m\u001b[1;33m,\u001b[0m \u001b[1;33m**\u001b[0m\u001b[0mkwargs\u001b[0m\u001b[1;33m)\u001b[0m\u001b[1;33m\u001b[0m\u001b[1;33m\u001b[0m\u001b[0m\n\u001b[0m\u001b[0;32m   1602\u001b[0m \u001b[1;33m\u001b[0m\u001b[0m\n\u001b[0;32m   1603\u001b[0m         \u001b[0mbound\u001b[0m \u001b[1;33m=\u001b[0m \u001b[0mnew_sig\u001b[0m\u001b[1;33m.\u001b[0m\u001b[0mbind\u001b[0m\u001b[1;33m(\u001b[0m\u001b[0max\u001b[0m\u001b[1;33m,\u001b[0m \u001b[1;33m*\u001b[0m\u001b[0margs\u001b[0m\u001b[1;33m,\u001b[0m \u001b[1;33m**\u001b[0m\u001b[0mkwargs\u001b[0m\u001b[1;33m)\u001b[0m\u001b[1;33m\u001b[0m\u001b[1;33m\u001b[0m\u001b[0m\n",
      "\u001b[1;32mF:\\Anaconda3\\lib\\site-packages\\matplotlib\\axes\\_axes.py\u001b[0m in \u001b[0;36mscatter\u001b[1;34m(self, x, y, s, c, marker, cmap, norm, vmin, vmax, alpha, linewidths, verts, edgecolors, plotnonfinite, **kwargs)\u001b[0m\n\u001b[0;32m   4442\u001b[0m         \u001b[0my\u001b[0m \u001b[1;33m=\u001b[0m \u001b[0mnp\u001b[0m\u001b[1;33m.\u001b[0m\u001b[0mma\u001b[0m\u001b[1;33m.\u001b[0m\u001b[0mravel\u001b[0m\u001b[1;33m(\u001b[0m\u001b[0my\u001b[0m\u001b[1;33m)\u001b[0m\u001b[1;33m\u001b[0m\u001b[1;33m\u001b[0m\u001b[0m\n\u001b[0;32m   4443\u001b[0m         \u001b[1;32mif\u001b[0m \u001b[0mx\u001b[0m\u001b[1;33m.\u001b[0m\u001b[0msize\u001b[0m \u001b[1;33m!=\u001b[0m \u001b[0my\u001b[0m\u001b[1;33m.\u001b[0m\u001b[0msize\u001b[0m\u001b[1;33m:\u001b[0m\u001b[1;33m\u001b[0m\u001b[1;33m\u001b[0m\u001b[0m\n\u001b[1;32m-> 4444\u001b[1;33m             \u001b[1;32mraise\u001b[0m \u001b[0mValueError\u001b[0m\u001b[1;33m(\u001b[0m\u001b[1;34m\"x and y must be the same size\"\u001b[0m\u001b[1;33m)\u001b[0m\u001b[1;33m\u001b[0m\u001b[1;33m\u001b[0m\u001b[0m\n\u001b[0m\u001b[0;32m   4445\u001b[0m \u001b[1;33m\u001b[0m\u001b[0m\n\u001b[0;32m   4446\u001b[0m         \u001b[1;32mif\u001b[0m \u001b[0ms\u001b[0m \u001b[1;32mis\u001b[0m \u001b[1;32mNone\u001b[0m\u001b[1;33m:\u001b[0m\u001b[1;33m\u001b[0m\u001b[1;33m\u001b[0m\u001b[0m\n",
      "\u001b[1;31mValueError\u001b[0m: x and y must be the same size"
     ]
    },
    {
     "data": {
      "image/png": "[encoded data removed]",
      "text/plain": [
       "<Figure size 432x288 with 1 Axes>"
      ]
     },
     "metadata": {
      "needs_background": "light"
     },
     "output_type": "display_data"
    }
   ],
   "source": [
    "plt.scatter(x,y)"
   ]
  },
  {
   "cell_type": "code",
   "execution_count": null,
   "metadata": {},
   "outputs": [],
   "source": []
  }
 ],
 "metadata": {
  "kernelspec": {
   "display_name": "Python 3",
   "language": "python",
   "name": "python3"
  },
  "language_info": {
   "codemirror_mode": {
    "name": "ipython",
    "version": 3
   },
   "file_extension": ".py",
   "mimetype": "text/x-python",
   "name": "python",
   "nbconvert_exporter": "python",
   "pygments_lexer": "ipython3",
   "version": "3.7.4"
  }
 },
 "nbformat": 4,
 "nbformat_minor": 2
}
